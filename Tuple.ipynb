{
 "cells": [
  {
   "cell_type": "code",
   "execution_count": null,
   "id": "9440f47c",
   "metadata": {},
   "outputs": [],
   "source": [
    "Tuple -- ()\n",
    "it is collection of similar and different type of data\n",
    "tuple is immutable in nature\n",
    "it is an ordered type\n",
    "it is also called as read only type DS\n",
    "when we have less no of change required in data in that condition we can use tuple\n",
    "username\n",
    "password\n",
    "security more than list\n",
    "memory size of tuple less than list\n",
    "tuple is faster than list\n",
    "duplicates element possible in tuple"
   ]
  },
  {
   "cell_type": "code",
   "execution_count": 1,
   "id": "57e313b4",
   "metadata": {},
   "outputs": [],
   "source": [
    "#*****Difference bet tuple and list "
   ]
  },
  {
   "cell_type": "code",
   "execution_count": 2,
   "id": "f88b7558",
   "metadata": {},
   "outputs": [],
   "source": [
    "p = [1,2,3,4,5,6,7,8,9,10] # mutable 1000"
   ]
  },
  {
   "cell_type": "code",
   "execution_count": 3,
   "id": "af9500ae",
   "metadata": {},
   "outputs": [],
   "source": [
    "py_tuple = (1,2,3,4,5)"
   ]
  },
  {
   "cell_type": "code",
   "execution_count": 4,
   "id": "8beee3a3",
   "metadata": {},
   "outputs": [
    {
     "data": {
      "text/plain": [
       "tuple"
      ]
     },
     "execution_count": 4,
     "metadata": {},
     "output_type": "execute_result"
    }
   ],
   "source": [
    "type(py_tuple)"
   ]
  },
  {
   "cell_type": "code",
   "execution_count": 5,
   "id": "85a9243b",
   "metadata": {},
   "outputs": [
    {
     "ename": "AttributeError",
     "evalue": "'tuple' object has no attribute 'insert'",
     "output_type": "error",
     "traceback": [
      "\u001b[1;31m---------------------------------------------------------------------------\u001b[0m",
      "\u001b[1;31mAttributeError\u001b[0m                            Traceback (most recent call last)",
      "\u001b[1;32m<ipython-input-5-29093e558e41>\u001b[0m in \u001b[0;36m<module>\u001b[1;34m\u001b[0m\n\u001b[1;32m----> 1\u001b[1;33m \u001b[0mpy_tuple\u001b[0m\u001b[1;33m.\u001b[0m\u001b[0minsert\u001b[0m\u001b[1;33m(\u001b[0m\u001b[1;36m2\u001b[0m\u001b[1;33m,\u001b[0m\u001b[1;36m100\u001b[0m\u001b[1;33m)\u001b[0m\u001b[1;33m\u001b[0m\u001b[1;33m\u001b[0m\u001b[0m\n\u001b[0m",
      "\u001b[1;31mAttributeError\u001b[0m: 'tuple' object has no attribute 'insert'"
     ]
    }
   ],
   "source": [
    "py_tuple.insert(2,100)"
   ]
  },
  {
   "cell_type": "code",
   "execution_count": 6,
   "id": "0a8c8d2f",
   "metadata": {},
   "outputs": [
    {
     "data": {
      "text/plain": [
       "(1, 2, 3, 4, 5)"
      ]
     },
     "execution_count": 6,
     "metadata": {},
     "output_type": "execute_result"
    }
   ],
   "source": [
    "py_tuple"
   ]
  },
  {
   "cell_type": "code",
   "execution_count": 7,
   "id": "edb7ac46",
   "metadata": {},
   "outputs": [
    {
     "data": {
      "text/plain": [
       "3"
      ]
     },
     "execution_count": 7,
     "metadata": {},
     "output_type": "execute_result"
    }
   ],
   "source": [
    "py_tuple[2]"
   ]
  },
  {
   "cell_type": "code",
   "execution_count": 9,
   "id": "66877226",
   "metadata": {},
   "outputs": [],
   "source": [
    "py_tuple = (1,1,1,1,1,1,2,2,22,4,)"
   ]
  },
  {
   "cell_type": "code",
   "execution_count": 10,
   "id": "44798354",
   "metadata": {},
   "outputs": [
    {
     "data": {
      "text/plain": [
       "(1, 1, 1, 1, 1, 1, 2, 2, 22, 4)"
      ]
     },
     "execution_count": 10,
     "metadata": {},
     "output_type": "execute_result"
    }
   ],
   "source": [
    "py_tuple"
   ]
  },
  {
   "cell_type": "code",
   "execution_count": 11,
   "id": "f6ef511b",
   "metadata": {},
   "outputs": [
    {
     "data": {
      "text/plain": [
       "[1, 1, 1, 1, 1, 1, 2, 2, 4, 22]"
      ]
     },
     "execution_count": 11,
     "metadata": {},
     "output_type": "execute_result"
    }
   ],
   "source": [
    "sorted(py_tuple)"
   ]
  },
  {
   "cell_type": "code",
   "execution_count": 16,
   "id": "304a6774",
   "metadata": {},
   "outputs": [
    {
     "data": {
      "text/plain": [
       "(1, 1, 1, 1, 1, 1, 2, 2, 22, 4)"
      ]
     },
     "execution_count": 16,
     "metadata": {},
     "output_type": "execute_result"
    }
   ],
   "source": [
    "py_tuple"
   ]
  },
  {
   "cell_type": "code",
   "execution_count": 13,
   "id": "d30edc83",
   "metadata": {},
   "outputs": [],
   "source": [
    "p = (1,2,3,55,11,89) #int"
   ]
  },
  {
   "cell_type": "code",
   "execution_count": 14,
   "id": "a5015a77",
   "metadata": {},
   "outputs": [],
   "source": [
    "p = (12,45.09,'Python',True,34+56j,None)"
   ]
  },
  {
   "cell_type": "code",
   "execution_count": 15,
   "id": "b20a6e2d",
   "metadata": {},
   "outputs": [
    {
     "data": {
      "text/plain": [
       "(12, 45.09, 'Python', True, (34+56j), None)"
      ]
     },
     "execution_count": 15,
     "metadata": {},
     "output_type": "execute_result"
    }
   ],
   "source": [
    "p"
   ]
  },
  {
   "cell_type": "code",
   "execution_count": 17,
   "id": "ff68251d",
   "metadata": {},
   "outputs": [
    {
     "data": {
      "text/plain": [
       "(12, 45.09, 'Python', True, (34+56j), None)"
      ]
     },
     "execution_count": 17,
     "metadata": {},
     "output_type": "execute_result"
    }
   ],
   "source": [
    "p"
   ]
  },
  {
   "cell_type": "code",
   "execution_count": 18,
   "id": "fceb06b7",
   "metadata": {},
   "outputs": [],
   "source": []
  },
  {
   "cell_type": "code",
   "execution_count": 21,
   "id": "e78b4fca",
   "metadata": {},
   "outputs": [],
   "source": [
    "p = (\"Kantilal\",\"Admin@123\")"
   ]
  },
  {
   "cell_type": "code",
   "execution_count": 22,
   "id": "c5e7b1f9",
   "metadata": {},
   "outputs": [
    {
     "data": {
      "text/plain": [
       "('Kantilal', 'Admin@123')"
      ]
     },
     "execution_count": 22,
     "metadata": {},
     "output_type": "execute_result"
    }
   ],
   "source": [
    "p"
   ]
  },
  {
   "cell_type": "code",
   "execution_count": 23,
   "id": "1c131020",
   "metadata": {},
   "outputs": [
    {
     "ename": "AttributeError",
     "evalue": "'tuple' object has no attribute 'pop'",
     "output_type": "error",
     "traceback": [
      "\u001b[1;31m---------------------------------------------------------------------------\u001b[0m",
      "\u001b[1;31mAttributeError\u001b[0m                            Traceback (most recent call last)",
      "\u001b[1;32m<ipython-input-23-6bdba5e9de30>\u001b[0m in \u001b[0;36m<module>\u001b[1;34m\u001b[0m\n\u001b[1;32m----> 1\u001b[1;33m \u001b[0mp\u001b[0m\u001b[1;33m.\u001b[0m\u001b[0mpop\u001b[0m\u001b[1;33m(\u001b[0m\u001b[1;33m)\u001b[0m\u001b[1;33m\u001b[0m\u001b[1;33m\u001b[0m\u001b[0m\n\u001b[0m",
      "\u001b[1;31mAttributeError\u001b[0m: 'tuple' object has no attribute 'pop'"
     ]
    }
   ],
   "source": [
    "p.pop()"
   ]
  },
  {
   "cell_type": "code",
   "execution_count": 24,
   "id": "1e6af900",
   "metadata": {},
   "outputs": [
    {
     "ename": "AttributeError",
     "evalue": "'tuple' object has no attribute 'remove'",
     "output_type": "error",
     "traceback": [
      "\u001b[1;31m---------------------------------------------------------------------------\u001b[0m",
      "\u001b[1;31mAttributeError\u001b[0m                            Traceback (most recent call last)",
      "\u001b[1;32m<ipython-input-24-f7fe887cb42a>\u001b[0m in \u001b[0;36m<module>\u001b[1;34m\u001b[0m\n\u001b[1;32m----> 1\u001b[1;33m \u001b[0mp\u001b[0m\u001b[1;33m.\u001b[0m\u001b[0mremove\u001b[0m\u001b[1;33m(\u001b[0m\u001b[1;33m)\u001b[0m\u001b[1;33m\u001b[0m\u001b[1;33m\u001b[0m\u001b[0m\n\u001b[0m",
      "\u001b[1;31mAttributeError\u001b[0m: 'tuple' object has no attribute 'remove'"
     ]
    }
   ],
   "source": [
    "p.remove()"
   ]
  },
  {
   "cell_type": "code",
   "execution_count": 25,
   "id": "2b4ad575",
   "metadata": {},
   "outputs": [
    {
     "data": {
      "text/plain": [
       "('Kantilal', 'Admin@123')"
      ]
     },
     "execution_count": 25,
     "metadata": {},
     "output_type": "execute_result"
    }
   ],
   "source": [
    "p"
   ]
  },
  {
   "cell_type": "code",
   "execution_count": 26,
   "id": "667a4bb3",
   "metadata": {},
   "outputs": [],
   "source": [
    "p = (\"Kantilal\",\"Newpass\")"
   ]
  },
  {
   "cell_type": "code",
   "execution_count": 27,
   "id": "e2a6146a",
   "metadata": {},
   "outputs": [
    {
     "data": {
      "text/plain": [
       "('Kantilal', 'Newpass')"
      ]
     },
     "execution_count": 27,
     "metadata": {},
     "output_type": "execute_result"
    }
   ],
   "source": [
    "p"
   ]
  },
  {
   "cell_type": "code",
   "execution_count": 28,
   "id": "3b8af6b0",
   "metadata": {},
   "outputs": [],
   "source": [
    "p =[\"ptyhon\",'Java',\"Hadoop\"]"
   ]
  },
  {
   "cell_type": "code",
   "execution_count": 29,
   "id": "d4128cbe",
   "metadata": {},
   "outputs": [],
   "source": [
    "p[1] =\"new java\""
   ]
  },
  {
   "cell_type": "code",
   "execution_count": 30,
   "id": "45e3a9ec",
   "metadata": {},
   "outputs": [
    {
     "data": {
      "text/plain": [
       "['ptyhon', 'new java', 'Hadoop']"
      ]
     },
     "execution_count": 30,
     "metadata": {},
     "output_type": "execute_result"
    }
   ],
   "source": [
    "p"
   ]
  },
  {
   "cell_type": "code",
   "execution_count": 31,
   "id": "cebb958e",
   "metadata": {},
   "outputs": [
    {
     "data": {
      "text/plain": [
       "['ptyhon', 'new java', 'Hadoop']"
      ]
     },
     "execution_count": 31,
     "metadata": {},
     "output_type": "execute_result"
    }
   ],
   "source": [
    "p"
   ]
  },
  {
   "cell_type": "code",
   "execution_count": 32,
   "id": "7a6c1463",
   "metadata": {},
   "outputs": [],
   "source": [
    "p = (\"python\",\"new java\",\"hadoop\")"
   ]
  },
  {
   "cell_type": "code",
   "execution_count": 33,
   "id": "564e77af",
   "metadata": {},
   "outputs": [
    {
     "ename": "TypeError",
     "evalue": "'tuple' object does not support item assignment",
     "output_type": "error",
     "traceback": [
      "\u001b[1;31m---------------------------------------------------------------------------\u001b[0m",
      "\u001b[1;31mTypeError\u001b[0m                                 Traceback (most recent call last)",
      "\u001b[1;32m<ipython-input-33-73ee35fe4b0d>\u001b[0m in \u001b[0;36m<module>\u001b[1;34m\u001b[0m\n\u001b[1;32m----> 1\u001b[1;33m \u001b[0mp\u001b[0m\u001b[1;33m[\u001b[0m\u001b[1;36m1\u001b[0m\u001b[1;33m]\u001b[0m\u001b[1;33m=\u001b[0m\u001b[1;34m\"java\"\u001b[0m\u001b[1;33m\u001b[0m\u001b[1;33m\u001b[0m\u001b[0m\n\u001b[0m",
      "\u001b[1;31mTypeError\u001b[0m: 'tuple' object does not support item assignment"
     ]
    }
   ],
   "source": [
    "p[1]=\"java\""
   ]
  },
  {
   "cell_type": "code",
   "execution_count": null,
   "id": "da425a08",
   "metadata": {},
   "outputs": [],
   "source": []
  }
 ],
 "metadata": {
  "kernelspec": {
   "display_name": "Python 3",
   "language": "python",
   "name": "python3"
  },
  "language_info": {
   "codemirror_mode": {
    "name": "ipython",
    "version": 3
   },
   "file_extension": ".py",
   "mimetype": "text/x-python",
   "name": "python",
   "nbconvert_exporter": "python",
   "pygments_lexer": "ipython3",
   "version": "3.8.8"
  }
 },
 "nbformat": 4,
 "nbformat_minor": 5
}
