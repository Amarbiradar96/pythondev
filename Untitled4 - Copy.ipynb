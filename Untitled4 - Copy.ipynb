{
 "cells": [
  {
   "cell_type": "code",
   "execution_count": 1,
   "id": "237ad9b9",
   "metadata": {},
   "outputs": [],
   "source": [
    "a = 10"
   ]
  },
  {
   "cell_type": "code",
   "execution_count": 2,
   "id": "b35c7c32",
   "metadata": {},
   "outputs": [
    {
     "data": {
      "text/plain": [
       "int"
      ]
     },
     "execution_count": 2,
     "metadata": {},
     "output_type": "execute_result"
    }
   ],
   "source": [
    "type(a)"
   ]
  },
  {
   "cell_type": "code",
   "execution_count": 3,
   "id": "74ad868c",
   "metadata": {},
   "outputs": [],
   "source": [
    "a = 10.55"
   ]
  },
  {
   "cell_type": "code",
   "execution_count": 4,
   "id": "c74b0e13",
   "metadata": {},
   "outputs": [
    {
     "data": {
      "text/plain": [
       "float"
      ]
     },
     "execution_count": 4,
     "metadata": {},
     "output_type": "execute_result"
    }
   ],
   "source": [
    "type(a)"
   ]
  },
  {
   "cell_type": "code",
   "execution_count": 5,
   "id": "8f95c101",
   "metadata": {},
   "outputs": [],
   "source": [
    "a = 'Python'"
   ]
  },
  {
   "cell_type": "code",
   "execution_count": 6,
   "id": "ab7151b6",
   "metadata": {},
   "outputs": [
    {
     "data": {
      "text/plain": [
       "str"
      ]
     },
     "execution_count": 6,
     "metadata": {},
     "output_type": "execute_result"
    }
   ],
   "source": [
    "type(a)"
   ]
  },
  {
   "cell_type": "code",
   "execution_count": 7,
   "id": "d6ce2d5a",
   "metadata": {},
   "outputs": [],
   "source": [
    "a = [1,2,3,4]"
   ]
  },
  {
   "cell_type": "code",
   "execution_count": 8,
   "id": "edec9396",
   "metadata": {},
   "outputs": [
    {
     "data": {
      "text/plain": [
       "list"
      ]
     },
     "execution_count": 8,
     "metadata": {},
     "output_type": "execute_result"
    }
   ],
   "source": [
    "type(a)"
   ]
  },
  {
   "cell_type": "code",
   "execution_count": 10,
   "id": "9bda2a07",
   "metadata": {},
   "outputs": [
    {
     "name": "stdout",
     "output_type": "stream",
     "text": [
      " \n"
     ]
    }
   ],
   "source": [
    "print( \" \")"
   ]
  },
  {
   "cell_type": "code",
   "execution_count": 13,
   "id": "db1a33fd",
   "metadata": {},
   "outputs": [],
   "source": [
    "python = 10"
   ]
  },
  {
   "cell_type": "code",
   "execution_count": 14,
   "id": "130b30e8",
   "metadata": {},
   "outputs": [
    {
     "data": {
      "text/plain": [
       "10"
      ]
     },
     "execution_count": 14,
     "metadata": {},
     "output_type": "execute_result"
    }
   ],
   "source": [
    "python"
   ]
  },
  {
   "cell_type": "code",
   "execution_count": 15,
   "id": "72073e38",
   "metadata": {},
   "outputs": [
    {
     "ename": "SyntaxError",
     "evalue": "invalid syntax (<ipython-input-15-07eb26916f3b>, line 1)",
     "output_type": "error",
     "traceback": [
      "\u001b[1;36m  File \u001b[1;32m\"<ipython-input-15-07eb26916f3b>\"\u001b[1;36m, line \u001b[1;32m1\u001b[0m\n\u001b[1;33m    12python=10\u001b[0m\n\u001b[1;37m      ^\u001b[0m\n\u001b[1;31mSyntaxError\u001b[0m\u001b[1;31m:\u001b[0m invalid syntax\n"
     ]
    }
   ],
   "source": [
    "12python=10"
   ]
  },
  {
   "cell_type": "code",
   "execution_count": 16,
   "id": "6efaf824",
   "metadata": {},
   "outputs": [],
   "source": [
    "a = 10"
   ]
  },
  {
   "cell_type": "code",
   "execution_count": 17,
   "id": "f6455fc0",
   "metadata": {},
   "outputs": [],
   "source": [
    "amount = 50000"
   ]
  },
  {
   "cell_type": "code",
   "execution_count": 18,
   "id": "25c09863",
   "metadata": {},
   "outputs": [],
   "source": [
    "a_name = 'Arun'"
   ]
  },
  {
   "cell_type": "code",
   "execution_count": 19,
   "id": "1538f463",
   "metadata": {},
   "outputs": [
    {
     "data": {
      "text/plain": [
       "'Arun'"
      ]
     },
     "execution_count": 19,
     "metadata": {},
     "output_type": "execute_result"
    }
   ],
   "source": [
    "a_name"
   ]
  },
  {
   "cell_type": "code",
   "execution_count": 23,
   "id": "486d562c",
   "metadata": {},
   "outputs": [
    {
     "ename": "SyntaxError",
     "evalue": "invalid syntax (<ipython-input-23-672210284956>, line 1)",
     "output_type": "error",
     "traceback": [
      "\u001b[1;36m  File \u001b[1;32m\"<ipython-input-23-672210284956>\"\u001b[1;36m, line \u001b[1;32m1\u001b[0m\n\u001b[1;33m    a!name = 'arun'\u001b[0m\n\u001b[1;37m     ^\u001b[0m\n\u001b[1;31mSyntaxError\u001b[0m\u001b[1;31m:\u001b[0m invalid syntax\n"
     ]
    }
   ],
   "source": [
    "a!name = 'arun'"
   ]
  },
  {
   "cell_type": "code",
   "execution_count": 24,
   "id": "8a5c9a9a",
   "metadata": {},
   "outputs": [
    {
     "ename": "SyntaxError",
     "evalue": "invalid syntax (<ipython-input-24-1be9f8edb7cd>, line 1)",
     "output_type": "error",
     "traceback": [
      "\u001b[1;36m  File \u001b[1;32m\"<ipython-input-24-1be9f8edb7cd>\"\u001b[1;36m, line \u001b[1;32m1\u001b[0m\n\u001b[1;33m    1a = 10\u001b[0m\n\u001b[1;37m     ^\u001b[0m\n\u001b[1;31mSyntaxError\u001b[0m\u001b[1;31m:\u001b[0m invalid syntax\n"
     ]
    }
   ],
   "source": [
    "1a = 10"
   ]
  },
  {
   "cell_type": "code",
   "execution_count": 25,
   "id": "2e3a838c",
   "metadata": {},
   "outputs": [],
   "source": [
    "a1 =10"
   ]
  },
  {
   "cell_type": "code",
   "execution_count": 26,
   "id": "2b888bdb",
   "metadata": {},
   "outputs": [
    {
     "data": {
      "text/plain": [
       "10"
      ]
     },
     "execution_count": 26,
     "metadata": {},
     "output_type": "execute_result"
    }
   ],
   "source": [
    "a1"
   ]
  },
  {
   "cell_type": "code",
   "execution_count": 27,
   "id": "36e26bd3",
   "metadata": {},
   "outputs": [],
   "source": [
    "a100 = 10"
   ]
  },
  {
   "cell_type": "code",
   "execution_count": 28,
   "id": "2f42a1c3",
   "metadata": {},
   "outputs": [],
   "source": [
    "a123 = 500"
   ]
  },
  {
   "cell_type": "code",
   "execution_count": 29,
   "id": "027d4129",
   "metadata": {},
   "outputs": [
    {
     "ename": "SyntaxError",
     "evalue": "cannot assign to literal (<ipython-input-29-8e686df1f34e>, line 1)",
     "output_type": "error",
     "traceback": [
      "\u001b[1;36m  File \u001b[1;32m\"<ipython-input-29-8e686df1f34e>\"\u001b[1;36m, line \u001b[1;32m1\u001b[0m\n\u001b[1;33m    111 = 1000\u001b[0m\n\u001b[1;37m    ^\u001b[0m\n\u001b[1;31mSyntaxError\u001b[0m\u001b[1;31m:\u001b[0m cannot assign to literal\n"
     ]
    }
   ],
   "source": [
    "111 = 1000"
   ]
  },
  {
   "cell_type": "code",
   "execution_count": 30,
   "id": "633ed621",
   "metadata": {},
   "outputs": [],
   "source": [
    "a = 60"
   ]
  },
  {
   "cell_type": "markdown",
   "id": "e187d668",
   "metadata": {},
   "source": [
    "A =100"
   ]
  },
  {
   "cell_type": "code",
   "execution_count": 33,
   "id": "a789ef3c",
   "metadata": {},
   "outputs": [
    {
     "data": {
      "text/plain": [
       "100"
      ]
     },
     "execution_count": 33,
     "metadata": {},
     "output_type": "execute_result"
    }
   ],
   "source": [
    "A"
   ]
  },
  {
   "cell_type": "code",
   "execution_count": 34,
   "id": "23dec45c",
   "metadata": {},
   "outputs": [
    {
     "data": {
      "text/plain": [
       "60"
      ]
     },
     "execution_count": 34,
     "metadata": {},
     "output_type": "execute_result"
    }
   ],
   "source": [
    "a"
   ]
  },
  {
   "cell_type": "markdown",
   "id": "dcc03cc8",
   "metadata": {},
   "source": [
    "# Notes"
   ]
  },
  {
   "cell_type": "markdown",
   "id": "834a5056",
   "metadata": {},
   "source": [
    "# sadfmasdnk'sdanf'podsapf"
   ]
  },
  {
   "cell_type": "code",
   "execution_count": null,
   "id": "02fa931e",
   "metadata": {},
   "outputs": [],
   "source": []
  }
 ],
 "metadata": {
  "kernelspec": {
   "display_name": "Python 3",
   "language": "python",
   "name": "python3"
  },
  "language_info": {
   "codemirror_mode": {
    "name": "ipython",
    "version": 3
   },
   "file_extension": ".py",
   "mimetype": "text/x-python",
   "name": "python",
   "nbconvert_exporter": "python",
   "pygments_lexer": "ipython3",
   "version": "3.8.8"
  }
 },
 "nbformat": 4,
 "nbformat_minor": 5
}
