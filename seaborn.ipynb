{
 "cells": [
  {
   "cell_type": "code",
   "execution_count": 2,
   "id": "f8b341d0",
   "metadata": {},
   "outputs": [],
   "source": [
    "import pandas as pd"
   ]
  },
  {
   "cell_type": "code",
   "execution_count": 3,
   "id": "80eb5644",
   "metadata": {},
   "outputs": [],
   "source": [
    "df = pd.read_csv('D:\\\\Python 18\\\\seaborn-data-master\\\\tips.csv')"
   ]
  },
  {
   "cell_type": "code",
   "execution_count": 4,
   "id": "9f065dae",
   "metadata": {},
   "outputs": [
    {
     "data": {
      "text/html": [
       "<div>\n",
       "<style scoped>\n",
       "    .dataframe tbody tr th:only-of-type {\n",
       "        vertical-align: middle;\n",
       "    }\n",
       "\n",
       "    .dataframe tbody tr th {\n",
       "        vertical-align: top;\n",
       "    }\n",
       "\n",
       "    .dataframe thead th {\n",
       "        text-align: right;\n",
       "    }\n",
       "</style>\n",
       "<table border=\"1\" class=\"dataframe\">\n",
       "  <thead>\n",
       "    <tr style=\"text-align: right;\">\n",
       "      <th></th>\n",
       "      <th>total_bill</th>\n",
       "      <th>tip</th>\n",
       "      <th>sex</th>\n",
       "      <th>smoker</th>\n",
       "      <th>day</th>\n",
       "      <th>time</th>\n",
       "      <th>size</th>\n",
       "    </tr>\n",
       "  </thead>\n",
       "  <tbody>\n",
       "    <tr>\n",
       "      <th>0</th>\n",
       "      <td>16.99</td>\n",
       "      <td>1.01</td>\n",
       "      <td>Female</td>\n",
       "      <td>No</td>\n",
       "      <td>Sun</td>\n",
       "      <td>Dinner</td>\n",
       "      <td>2</td>\n",
       "    </tr>\n",
       "    <tr>\n",
       "      <th>1</th>\n",
       "      <td>10.34</td>\n",
       "      <td>1.66</td>\n",
       "      <td>Male</td>\n",
       "      <td>No</td>\n",
       "      <td>Sun</td>\n",
       "      <td>Dinner</td>\n",
       "      <td>3</td>\n",
       "    </tr>\n",
       "    <tr>\n",
       "      <th>2</th>\n",
       "      <td>21.01</td>\n",
       "      <td>3.50</td>\n",
       "      <td>Male</td>\n",
       "      <td>No</td>\n",
       "      <td>Sun</td>\n",
       "      <td>Dinner</td>\n",
       "      <td>3</td>\n",
       "    </tr>\n",
       "    <tr>\n",
       "      <th>3</th>\n",
       "      <td>23.68</td>\n",
       "      <td>3.31</td>\n",
       "      <td>Male</td>\n",
       "      <td>No</td>\n",
       "      <td>Sun</td>\n",
       "      <td>Dinner</td>\n",
       "      <td>2</td>\n",
       "    </tr>\n",
       "    <tr>\n",
       "      <th>4</th>\n",
       "      <td>24.59</td>\n",
       "      <td>3.61</td>\n",
       "      <td>Female</td>\n",
       "      <td>No</td>\n",
       "      <td>Sun</td>\n",
       "      <td>Dinner</td>\n",
       "      <td>4</td>\n",
       "    </tr>\n",
       "    <tr>\n",
       "      <th>...</th>\n",
       "      <td>...</td>\n",
       "      <td>...</td>\n",
       "      <td>...</td>\n",
       "      <td>...</td>\n",
       "      <td>...</td>\n",
       "      <td>...</td>\n",
       "      <td>...</td>\n",
       "    </tr>\n",
       "    <tr>\n",
       "      <th>239</th>\n",
       "      <td>29.03</td>\n",
       "      <td>5.92</td>\n",
       "      <td>Male</td>\n",
       "      <td>No</td>\n",
       "      <td>Sat</td>\n",
       "      <td>Dinner</td>\n",
       "      <td>3</td>\n",
       "    </tr>\n",
       "    <tr>\n",
       "      <th>240</th>\n",
       "      <td>27.18</td>\n",
       "      <td>2.00</td>\n",
       "      <td>Female</td>\n",
       "      <td>Yes</td>\n",
       "      <td>Sat</td>\n",
       "      <td>Dinner</td>\n",
       "      <td>2</td>\n",
       "    </tr>\n",
       "    <tr>\n",
       "      <th>241</th>\n",
       "      <td>22.67</td>\n",
       "      <td>2.00</td>\n",
       "      <td>Male</td>\n",
       "      <td>Yes</td>\n",
       "      <td>Sat</td>\n",
       "      <td>Dinner</td>\n",
       "      <td>2</td>\n",
       "    </tr>\n",
       "    <tr>\n",
       "      <th>242</th>\n",
       "      <td>17.82</td>\n",
       "      <td>1.75</td>\n",
       "      <td>Male</td>\n",
       "      <td>No</td>\n",
       "      <td>Sat</td>\n",
       "      <td>Dinner</td>\n",
       "      <td>2</td>\n",
       "    </tr>\n",
       "    <tr>\n",
       "      <th>243</th>\n",
       "      <td>18.78</td>\n",
       "      <td>3.00</td>\n",
       "      <td>Female</td>\n",
       "      <td>No</td>\n",
       "      <td>Thur</td>\n",
       "      <td>Dinner</td>\n",
       "      <td>2</td>\n",
       "    </tr>\n",
       "  </tbody>\n",
       "</table>\n",
       "<p>244 rows × 7 columns</p>\n",
       "</div>"
      ],
      "text/plain": [
       "     total_bill   tip     sex smoker   day    time  size\n",
       "0         16.99  1.01  Female     No   Sun  Dinner     2\n",
       "1         10.34  1.66    Male     No   Sun  Dinner     3\n",
       "2         21.01  3.50    Male     No   Sun  Dinner     3\n",
       "3         23.68  3.31    Male     No   Sun  Dinner     2\n",
       "4         24.59  3.61  Female     No   Sun  Dinner     4\n",
       "..          ...   ...     ...    ...   ...     ...   ...\n",
       "239       29.03  5.92    Male     No   Sat  Dinner     3\n",
       "240       27.18  2.00  Female    Yes   Sat  Dinner     2\n",
       "241       22.67  2.00    Male    Yes   Sat  Dinner     2\n",
       "242       17.82  1.75    Male     No   Sat  Dinner     2\n",
       "243       18.78  3.00  Female     No  Thur  Dinner     2\n",
       "\n",
       "[244 rows x 7 columns]"
      ]
     },
     "execution_count": 4,
     "metadata": {},
     "output_type": "execute_result"
    }
   ],
   "source": [
    "df"
   ]
  },
  {
   "cell_type": "code",
   "execution_count": 5,
   "id": "257464bb",
   "metadata": {},
   "outputs": [
    {
     "data": {
      "text/plain": [
       "(244, 7)"
      ]
     },
     "execution_count": 5,
     "metadata": {},
     "output_type": "execute_result"
    }
   ],
   "source": [
    "df.shape"
   ]
  },
  {
   "cell_type": "code",
   "execution_count": 7,
   "id": "376a2cc7",
   "metadata": {},
   "outputs": [
    {
     "data": {
      "text/html": [
       "<div>\n",
       "<style scoped>\n",
       "    .dataframe tbody tr th:only-of-type {\n",
       "        vertical-align: middle;\n",
       "    }\n",
       "\n",
       "    .dataframe tbody tr th {\n",
       "        vertical-align: top;\n",
       "    }\n",
       "\n",
       "    .dataframe thead th {\n",
       "        text-align: right;\n",
       "    }\n",
       "</style>\n",
       "<table border=\"1\" class=\"dataframe\">\n",
       "  <thead>\n",
       "    <tr style=\"text-align: right;\">\n",
       "      <th></th>\n",
       "      <th>total_bill</th>\n",
       "      <th>tip</th>\n",
       "      <th>size</th>\n",
       "    </tr>\n",
       "  </thead>\n",
       "  <tbody>\n",
       "    <tr>\n",
       "      <th>count</th>\n",
       "      <td>244.000000</td>\n",
       "      <td>244.000000</td>\n",
       "      <td>244.000000</td>\n",
       "    </tr>\n",
       "    <tr>\n",
       "      <th>mean</th>\n",
       "      <td>19.785943</td>\n",
       "      <td>2.998279</td>\n",
       "      <td>2.569672</td>\n",
       "    </tr>\n",
       "    <tr>\n",
       "      <th>std</th>\n",
       "      <td>8.902412</td>\n",
       "      <td>1.383638</td>\n",
       "      <td>0.951100</td>\n",
       "    </tr>\n",
       "    <tr>\n",
       "      <th>min</th>\n",
       "      <td>3.070000</td>\n",
       "      <td>1.000000</td>\n",
       "      <td>1.000000</td>\n",
       "    </tr>\n",
       "    <tr>\n",
       "      <th>25%</th>\n",
       "      <td>13.347500</td>\n",
       "      <td>2.000000</td>\n",
       "      <td>2.000000</td>\n",
       "    </tr>\n",
       "    <tr>\n",
       "      <th>50%</th>\n",
       "      <td>17.795000</td>\n",
       "      <td>2.900000</td>\n",
       "      <td>2.000000</td>\n",
       "    </tr>\n",
       "    <tr>\n",
       "      <th>75%</th>\n",
       "      <td>24.127500</td>\n",
       "      <td>3.562500</td>\n",
       "      <td>3.000000</td>\n",
       "    </tr>\n",
       "    <tr>\n",
       "      <th>max</th>\n",
       "      <td>50.810000</td>\n",
       "      <td>10.000000</td>\n",
       "      <td>6.000000</td>\n",
       "    </tr>\n",
       "  </tbody>\n",
       "</table>\n",
       "</div>"
      ],
      "text/plain": [
       "       total_bill         tip        size\n",
       "count  244.000000  244.000000  244.000000\n",
       "mean    19.785943    2.998279    2.569672\n",
       "std      8.902412    1.383638    0.951100\n",
       "min      3.070000    1.000000    1.000000\n",
       "25%     13.347500    2.000000    2.000000\n",
       "50%     17.795000    2.900000    2.000000\n",
       "75%     24.127500    3.562500    3.000000\n",
       "max     50.810000   10.000000    6.000000"
      ]
     },
     "execution_count": 7,
     "metadata": {},
     "output_type": "execute_result"
    }
   ],
   "source": [
    "df.describe()"
   ]
  },
  {
   "cell_type": "code",
   "execution_count": 10,
   "id": "d0150a61",
   "metadata": {},
   "outputs": [],
   "source": [
    "p= [13,16,14,12,15,17,18,16,11,]\n"
   ]
  },
  {
   "cell_type": "code",
   "execution_count": 11,
   "id": "7b4d2007",
   "metadata": {},
   "outputs": [
    {
     "data": {
      "text/plain": [
       "15.2"
      ]
     },
     "execution_count": 11,
     "metadata": {},
     "output_type": "execute_result"
    }
   ],
   "source": [
    "sum(p)/len(p)"
   ]
  },
  {
   "cell_type": "code",
   "execution_count": 6,
   "id": "0c281d18",
   "metadata": {},
   "outputs": [],
   "source": [
    "import seaborn as sns\n",
    "import matplotlib.pyplot as plt"
   ]
  },
  {
   "cell_type": "code",
   "execution_count": 21,
   "id": "547ddfd7",
   "metadata": {},
   "outputs": [
    {
     "data": {
      "image/png": "[encoded data removed]",
      "text/plain": [
       "<Figure size 360x360 with 1 Axes>"
      ]
     },
     "metadata": {
      "needs_background": "light"
     },
     "output_type": "display_data"
    }
   ],
   "source": [
    "sns.displot(df['total_bill'],bins=30,kde=True)\n",
    "plt.show()"
   ]
  },
  {
   "cell_type": "code",
   "execution_count": 24,
   "id": "623e2bbf",
   "metadata": {},
   "outputs": [
    {
     "data": {
      "text/plain": [
       "20.11467248908297"
      ]
     },
     "execution_count": 24,
     "metadata": {},
     "output_type": "execute_result"
    }
   ],
   "source": [
    "df['total_bill'].unique().mean()"
   ]
  },
  {
   "cell_type": "code",
   "execution_count": 25,
   "id": "66ca1f9b",
   "metadata": {},
   "outputs": [
    {
     "data": {
      "text/plain": [
       "<seaborn.axisgrid.FacetGrid at 0x1f2fa9e5310>"
      ]
     },
     "execution_count": 25,
     "metadata": {},
     "output_type": "execute_result"
    },
    {
     "data": {
      "image/png": "[encoded data removed]",
      "text/plain": [
       "<Figure size 360x360 with 1 Axes>"
      ]
     },
     "metadata": {
      "needs_background": "light"
     },
     "output_type": "display_data"
    }
   ],
   "source": [
    "sns.displot(df['tip'],kde=True)"
   ]
  },
  {
   "cell_type": "code",
   "execution_count": 28,
   "id": "fdd63a1c",
   "metadata": {},
   "outputs": [
    {
     "data": {
      "text/plain": [
       "3.1878861788617887"
      ]
     },
     "execution_count": 28,
     "metadata": {},
     "output_type": "execute_result"
    }
   ],
   "source": [
    "df['tip'].unique().mean()"
   ]
  },
  {
   "cell_type": "code",
   "execution_count": null,
   "id": "5ab25de1",
   "metadata": {},
   "outputs": [],
   "source": [
    "outlier \n",
    "distplot\n",
    "scatter\n",
    "boxpplot"
   ]
  },
  {
   "cell_type": "code",
   "execution_count": 29,
   "id": "10abc7e5",
   "metadata": {},
   "outputs": [
    {
     "data": {
      "text/plain": [
       "<seaborn.axisgrid.JointGrid at 0x1f2fb171730>"
      ]
     },
     "execution_count": 29,
     "metadata": {},
     "output_type": "execute_result"
    },
    {
     "data": {
      "image/png": "[encoded data removed]",
      "text/plain": [
       "<Figure size 432x432 with 3 Axes>"
      ]
     },
     "metadata": {
      "needs_background": "light"
     },
     "output_type": "display_data"
    }
   ],
   "source": [
    "sns.jointplot(x='tip',y='total_bill',data=df)"
   ]
  },
  {
   "cell_type": "code",
   "execution_count": 34,
   "id": "c7cd85f3",
   "metadata": {},
   "outputs": [
    {
     "data": {
      "text/plain": [
       "<seaborn.axisgrid.JointGrid at 0x1f2f9a4e730>"
      ]
     },
     "execution_count": 34,
     "metadata": {},
     "output_type": "execute_result"
    },
    {
     "data": {
      "image/png": "[encoded data removed]",
      "text/plain": [
       "<Figure size 432x432 with 3 Axes>"
      ]
     },
     "metadata": {
      "needs_background": "light"
     },
     "output_type": "display_data"
    }
   ],
   "source": [
    "sns.jointplot(x='total_bill',y='tip',data=df,kind='reg')"
   ]
  },
  {
   "cell_type": "code",
   "execution_count": 31,
   "id": "16ae4950",
   "metadata": {},
   "outputs": [
    {
     "data": {
      "text/plain": [
       "<seaborn.axisgrid.FacetGrid at 0x1f2f97dba30>"
      ]
     },
     "execution_count": 31,
     "metadata": {},
     "output_type": "execute_result"
    },
    {
     "data": {
      "image/png": "[encoded data removed]",
      "text/plain": [
       "<Figure size 360x360 with 1 Axes>"
      ]
     },
     "metadata": {
      "needs_background": "light"
     },
     "output_type": "display_data"
    }
   ],
   "source": [
    "sns.displot(df['size'])"
   ]
  },
  {
   "cell_type": "code",
   "execution_count": 35,
   "id": "216bf93e",
   "metadata": {},
   "outputs": [
    {
     "data": {
      "text/plain": [
       "<seaborn.axisgrid.PairGrid at 0x1f2fadd9910>"
      ]
     },
     "execution_count": 35,
     "metadata": {},
     "output_type": "execute_result"
    },
    {
     "data": {
      "image/png": "[encoded data removed]",
      "text/plain": [
       "<Figure size 540x540 with 12 Axes>"
      ]
     },
     "metadata": {
      "needs_background": "light"
     },
     "output_type": "display_data"
    }
   ],
   "source": [
    "sns.pairplot(df)"
   ]
  },
  {
   "cell_type": "code",
   "execution_count": 38,
   "id": "d155bee3",
   "metadata": {},
   "outputs": [
    {
     "data": {
      "text/plain": [
       "<seaborn.axisgrid.PairGrid at 0x1f2fcfbb8b0>"
      ]
     },
     "execution_count": 38,
     "metadata": {},
     "output_type": "execute_result"
    },
    {
     "data": {
      "image/png": "[encoded data removed]",
      "text/plain": [
       "<Figure size 612.125x540 with 12 Axes>"
      ]
     },
     "metadata": {
      "needs_background": "light"
     },
     "output_type": "display_data"
    }
   ],
   "source": [
    "sns.pairplot(df,hue='sex')"
   ]
  },
  {
   "cell_type": "code",
   "execution_count": 39,
   "id": "f9987b2d",
   "metadata": {},
   "outputs": [],
   "source": [
    "#boxplot"
   ]
  },
  {
   "cell_type": "code",
   "execution_count": null,
   "id": "25a4f3b7",
   "metadata": {},
   "outputs": [],
   "source": [
    "boxplot or whisker"
   ]
  },
  {
   "cell_type": "code",
   "execution_count": 40,
   "id": "41b83556",
   "metadata": {},
   "outputs": [
    {
     "data": {
      "text/plain": [
       "Index(['total_bill', 'tip', 'sex', 'smoker', 'day', 'time', 'size'], dtype='object')"
      ]
     },
     "execution_count": 40,
     "metadata": {},
     "output_type": "execute_result"
    }
   ],
   "source": [
    "df.columns"
   ]
  },
  {
   "cell_type": "code",
   "execution_count": 44,
   "id": "2e8be2d3",
   "metadata": {},
   "outputs": [
    {
     "name": "stderr",
     "output_type": "stream",
     "text": [
      "C:\\Users\\kanti\\anaconda3\\lib\\site-packages\\seaborn\\_decorators.py:36: FutureWarning: Pass the following variable as a keyword arg: x. From version 0.12, the only valid positional argument will be `data`, and passing other arguments without an explicit keyword will result in an error or misinterpretation.\n",
      "  warnings.warn(\n"
     ]
    },
    {
     "data": {
      "text/plain": [
       "<AxesSubplot:xlabel='tip'>"
      ]
     },
     "execution_count": 44,
     "metadata": {},
     "output_type": "execute_result"
    },
    {
     "data": {
      "image/png": "[encoded data removed]",
      "text/plain": [
       "<Figure size 432x288 with 1 Axes>"
      ]
     },
     "metadata": {
      "needs_background": "light"
     },
     "output_type": "display_data"
    }
   ],
   "source": [
    "sns.boxplot('tip',data=df)"
   ]
  },
  {
   "cell_type": "code",
   "execution_count": 4,
   "id": "375b64ed",
   "metadata": {},
   "outputs": [],
   "source": [
    "#heatmap -->feature selection"
   ]
  },
  {
   "cell_type": "code",
   "execution_count": null,
   "id": "b981e7b9",
   "metadata": {},
   "outputs": [],
   "source": [
    "x1,x2,x3,----x100 -- y \n",
    "scatter plot\n",
    "heatamap"
   ]
  },
  {
   "cell_type": "code",
   "execution_count": 48,
   "id": "7cdf66f5",
   "metadata": {},
   "outputs": [
    {
     "data": {
      "text/plain": [
       "1      Sun\n",
       "2      Sun\n",
       "3      Sun\n",
       "5      Sun\n",
       "6      Sun\n",
       "      ... \n",
       "232    Sat\n",
       "233    Sat\n",
       "235    Sat\n",
       "239    Sat\n",
       "242    Sat\n",
       "Name: day, Length: 97, dtype: object"
      ]
     },
     "execution_count": 48,
     "metadata": {},
     "output_type": "execute_result"
    }
   ],
   "source": [
    "df['day'][(df['sex']=='Male') & (df['smoker']=='No')]"
   ]
  },
  {
   "cell_type": "code",
   "execution_count": 10,
   "id": "5d625eae",
   "metadata": {},
   "outputs": [
    {
     "data": {
      "text/html": [
       "<div>\n",
       "<style scoped>\n",
       "    .dataframe tbody tr th:only-of-type {\n",
       "        vertical-align: middle;\n",
       "    }\n",
       "\n",
       "    .dataframe tbody tr th {\n",
       "        vertical-align: top;\n",
       "    }\n",
       "\n",
       "    .dataframe thead th {\n",
       "        text-align: right;\n",
       "    }\n",
       "</style>\n",
       "<table border=\"1\" class=\"dataframe\">\n",
       "  <thead>\n",
       "    <tr style=\"text-align: right;\">\n",
       "      <th></th>\n",
       "      <th>total_bill</th>\n",
       "      <th>tip</th>\n",
       "      <th>size</th>\n",
       "    </tr>\n",
       "  </thead>\n",
       "  <tbody>\n",
       "    <tr>\n",
       "      <th>total_bill</th>\n",
       "      <td>1.000000</td>\n",
       "      <td>0.675734</td>\n",
       "      <td>0.598315</td>\n",
       "    </tr>\n",
       "    <tr>\n",
       "      <th>tip</th>\n",
       "      <td>0.675734</td>\n",
       "      <td>1.000000</td>\n",
       "      <td>0.489299</td>\n",
       "    </tr>\n",
       "    <tr>\n",
       "      <th>size</th>\n",
       "      <td>0.598315</td>\n",
       "      <td>0.489299</td>\n",
       "      <td>1.000000</td>\n",
       "    </tr>\n",
       "  </tbody>\n",
       "</table>\n",
       "</div>"
      ],
      "text/plain": [
       "            total_bill       tip      size\n",
       "total_bill    1.000000  0.675734  0.598315\n",
       "tip           0.675734  1.000000  0.489299\n",
       "size          0.598315  0.489299  1.000000"
      ]
     },
     "execution_count": 10,
     "metadata": {},
     "output_type": "execute_result"
    }
   ],
   "source": [
    "df.corr()"
   ]
  },
  {
   "cell_type": "code",
   "execution_count": 16,
   "id": "0b2f2360",
   "metadata": {},
   "outputs": [
    {
     "data": {
      "text/plain": [
       "<AxesSubplot:>"
      ]
     },
     "execution_count": 16,
     "metadata": {},
     "output_type": "execute_result"
    },
    {
     "data": {
      "image/png": "[encoded data removed]",
      "text/plain": [
       "<Figure size 432x288 with 2 Axes>"
      ]
     },
     "metadata": {
      "needs_background": "light"
     },
     "output_type": "display_data"
    }
   ],
   "source": [
    "sns.heatmap(df[['total_bill','size']].corr())"
   ]
  },
  {
   "cell_type": "code",
   "execution_count": 19,
   "id": "2ac8a322",
   "metadata": {},
   "outputs": [],
   "source": [
    "import requests"
   ]
  },
  {
   "cell_type": "raw",
   "id": "92a60af5",
   "metadata": {},
   "source": []
  },
  {
   "cell_type": "code",
   "execution_count": 20,
   "id": "3e7d5ccc",
   "metadata": {},
   "outputs": [],
   "source": [
    "r = requests.get(\"https://datahub.io/machine-learning/creditcard/r/0.html\")"
   ]
  },
  {
   "cell_type": "code",
   "execution_count": 23,
   "id": "b0d9e610",
   "metadata": {},
   "outputs": [
    {
     "ename": "TypeError",
     "evalue": "'bytes' object is not callable",
     "output_type": "error",
     "traceback": [
      "\u001b[1;31m---------------------------------------------------------------------------\u001b[0m",
      "\u001b[1;31mTypeError\u001b[0m                                 Traceback (most recent call last)",
      "\u001b[1;32m<ipython-input-23-f51b5ccebb95>\u001b[0m in \u001b[0;36m<module>\u001b[1;34m\u001b[0m\n\u001b[1;32m----> 1\u001b[1;33m \u001b[0mdf2\u001b[0m \u001b[1;33m=\u001b[0m \u001b[0mpd\u001b[0m\u001b[1;33m.\u001b[0m\u001b[0mDataFrame\u001b[0m\u001b[1;33m(\u001b[0m\u001b[0mr\u001b[0m\u001b[1;33m.\u001b[0m\u001b[0mcontent\u001b[0m\u001b[1;33m(\u001b[0m\u001b[1;33m)\u001b[0m\u001b[1;33m)\u001b[0m\u001b[1;33m\u001b[0m\u001b[1;33m\u001b[0m\u001b[0m\n\u001b[0m",
      "\u001b[1;31mTypeError\u001b[0m: 'bytes' object is not callable"
     ]
    }
   ],
   "source": [
    "df2 = pd.DataFrame"
   ]
  },
  {
   "cell_type": "code",
   "execution_count": 28,
   "id": "d4797bd7",
   "metadata": {},
   "outputs": [],
   "source": [
    "df2 = pd.read_json(\"https://pkgstore.datahub.io/machine-learning/creditcard/creditcard_json/data/9189a84974b5439b73619038cd6a660e/creditcard_json.json\")"
   ]
  },
  {
   "cell_type": "code",
   "execution_count": 29,
   "id": "f5a93bfd",
   "metadata": {},
   "outputs": [
    {
     "data": {
      "text/html": [
       "<div>\n",
       "<style scoped>\n",
       "    .dataframe tbody tr th:only-of-type {\n",
       "        vertical-align: middle;\n",
       "    }\n",
       "\n",
       "    .dataframe tbody tr th {\n",
       "        vertical-align: top;\n",
       "    }\n",
       "\n",
       "    .dataframe thead th {\n",
       "        text-align: right;\n",
       "    }\n",
       "</style>\n",
       "<table border=\"1\" class=\"dataframe\">\n",
       "  <thead>\n",
       "    <tr style=\"text-align: right;\">\n",
       "      <th></th>\n",
       "      <th>Amount</th>\n",
       "      <th>Class</th>\n",
       "      <th>Time</th>\n",
       "      <th>V1</th>\n",
       "      <th>V10</th>\n",
       "      <th>V11</th>\n",
       "      <th>V12</th>\n",
       "      <th>V13</th>\n",
       "      <th>V14</th>\n",
       "      <th>V15</th>\n",
       "      <th>...</th>\n",
       "      <th>V26</th>\n",
       "      <th>V27</th>\n",
       "      <th>V28</th>\n",
       "      <th>V3</th>\n",
       "      <th>V4</th>\n",
       "      <th>V5</th>\n",
       "      <th>V6</th>\n",
       "      <th>V7</th>\n",
       "      <th>V8</th>\n",
       "      <th>V9</th>\n",
       "    </tr>\n",
       "  </thead>\n",
       "  <tbody>\n",
       "    <tr>\n",
       "      <th>0</th>\n",
       "      <td>149.62</td>\n",
       "      <td>'0'</td>\n",
       "      <td>0</td>\n",
       "      <td>-1.359807</td>\n",
       "      <td>0.090794</td>\n",
       "      <td>-0.551600</td>\n",
       "      <td>-0.617801</td>\n",
       "      <td>-0.991390</td>\n",
       "      <td>-0.311169</td>\n",
       "      <td>1.468177</td>\n",
       "      <td>...</td>\n",
       "      <td>-0.189115</td>\n",
       "      <td>0.133558</td>\n",
       "      <td>-0.021053</td>\n",
       "      <td>2.536347</td>\n",
       "      <td>1.378155</td>\n",
       "      <td>-0.338321</td>\n",
       "      <td>0.462388</td>\n",
       "      <td>0.239599</td>\n",
       "      <td>0.098698</td>\n",
       "      <td>0.363787</td>\n",
       "    </tr>\n",
       "    <tr>\n",
       "      <th>1</th>\n",
       "      <td>2.69</td>\n",
       "      <td>'0'</td>\n",
       "      <td>0</td>\n",
       "      <td>1.191857</td>\n",
       "      <td>-0.166974</td>\n",
       "      <td>1.612727</td>\n",
       "      <td>1.065235</td>\n",
       "      <td>0.489095</td>\n",
       "      <td>-0.143772</td>\n",
       "      <td>0.635558</td>\n",
       "      <td>...</td>\n",
       "      <td>0.125895</td>\n",
       "      <td>-0.008983</td>\n",
       "      <td>0.014724</td>\n",
       "      <td>0.166480</td>\n",
       "      <td>0.448154</td>\n",
       "      <td>0.060018</td>\n",
       "      <td>-0.082361</td>\n",
       "      <td>-0.078803</td>\n",
       "      <td>0.085102</td>\n",
       "      <td>-0.255425</td>\n",
       "    </tr>\n",
       "    <tr>\n",
       "      <th>2</th>\n",
       "      <td>378.66</td>\n",
       "      <td>'0'</td>\n",
       "      <td>1</td>\n",
       "      <td>-1.358354</td>\n",
       "      <td>0.207643</td>\n",
       "      <td>0.624501</td>\n",
       "      <td>0.066084</td>\n",
       "      <td>0.717293</td>\n",
       "      <td>-0.165946</td>\n",
       "      <td>2.345865</td>\n",
       "      <td>...</td>\n",
       "      <td>-0.139097</td>\n",
       "      <td>-0.055353</td>\n",
       "      <td>-0.059752</td>\n",
       "      <td>1.773209</td>\n",
       "      <td>0.379780</td>\n",
       "      <td>-0.503198</td>\n",
       "      <td>1.800499</td>\n",
       "      <td>0.791461</td>\n",
       "      <td>0.247676</td>\n",
       "      <td>-1.514654</td>\n",
       "    </tr>\n",
       "    <tr>\n",
       "      <th>3</th>\n",
       "      <td>123.50</td>\n",
       "      <td>'0'</td>\n",
       "      <td>1</td>\n",
       "      <td>-0.966272</td>\n",
       "      <td>-0.054952</td>\n",
       "      <td>-0.226487</td>\n",
       "      <td>0.178228</td>\n",
       "      <td>0.507757</td>\n",
       "      <td>-0.287924</td>\n",
       "      <td>-0.631418</td>\n",
       "      <td>...</td>\n",
       "      <td>-0.221929</td>\n",
       "      <td>0.062723</td>\n",
       "      <td>0.061458</td>\n",
       "      <td>1.792993</td>\n",
       "      <td>-0.863291</td>\n",
       "      <td>-0.010309</td>\n",
       "      <td>1.247203</td>\n",
       "      <td>0.237609</td>\n",
       "      <td>0.377436</td>\n",
       "      <td>-1.387024</td>\n",
       "    </tr>\n",
       "    <tr>\n",
       "      <th>4</th>\n",
       "      <td>69.99</td>\n",
       "      <td>'0'</td>\n",
       "      <td>2</td>\n",
       "      <td>-1.158233</td>\n",
       "      <td>0.753074</td>\n",
       "      <td>-0.822843</td>\n",
       "      <td>0.538196</td>\n",
       "      <td>1.345852</td>\n",
       "      <td>-1.119670</td>\n",
       "      <td>0.175121</td>\n",
       "      <td>...</td>\n",
       "      <td>0.502292</td>\n",
       "      <td>0.219422</td>\n",
       "      <td>0.215153</td>\n",
       "      <td>1.548718</td>\n",
       "      <td>0.403034</td>\n",
       "      <td>-0.407193</td>\n",
       "      <td>0.095921</td>\n",
       "      <td>0.592941</td>\n",
       "      <td>-0.270533</td>\n",
       "      <td>0.817739</td>\n",
       "    </tr>\n",
       "    <tr>\n",
       "      <th>...</th>\n",
       "      <td>...</td>\n",
       "      <td>...</td>\n",
       "      <td>...</td>\n",
       "      <td>...</td>\n",
       "      <td>...</td>\n",
       "      <td>...</td>\n",
       "      <td>...</td>\n",
       "      <td>...</td>\n",
       "      <td>...</td>\n",
       "      <td>...</td>\n",
       "      <td>...</td>\n",
       "      <td>...</td>\n",
       "      <td>...</td>\n",
       "      <td>...</td>\n",
       "      <td>...</td>\n",
       "      <td>...</td>\n",
       "      <td>...</td>\n",
       "      <td>...</td>\n",
       "      <td>...</td>\n",
       "      <td>...</td>\n",
       "      <td>...</td>\n",
       "    </tr>\n",
       "    <tr>\n",
       "      <th>284802</th>\n",
       "      <td>0.77</td>\n",
       "      <td>'0'</td>\n",
       "      <td>172786</td>\n",
       "      <td>-11.881118</td>\n",
       "      <td>4.356170</td>\n",
       "      <td>-1.593105</td>\n",
       "      <td>2.711941</td>\n",
       "      <td>-0.689256</td>\n",
       "      <td>4.626942</td>\n",
       "      <td>-0.924459</td>\n",
       "      <td>...</td>\n",
       "      <td>0.250034</td>\n",
       "      <td>0.943651</td>\n",
       "      <td>0.823731</td>\n",
       "      <td>-9.834783</td>\n",
       "      <td>-2.066656</td>\n",
       "      <td>-5.364473</td>\n",
       "      <td>-2.606837</td>\n",
       "      <td>-4.918215</td>\n",
       "      <td>7.305334</td>\n",
       "      <td>1.914428</td>\n",
       "    </tr>\n",
       "    <tr>\n",
       "      <th>284803</th>\n",
       "      <td>24.79</td>\n",
       "      <td>'0'</td>\n",
       "      <td>172787</td>\n",
       "      <td>-0.732789</td>\n",
       "      <td>-0.975926</td>\n",
       "      <td>-0.150189</td>\n",
       "      <td>0.915802</td>\n",
       "      <td>1.214756</td>\n",
       "      <td>-0.675143</td>\n",
       "      <td>1.164931</td>\n",
       "      <td>...</td>\n",
       "      <td>-0.395255</td>\n",
       "      <td>0.068472</td>\n",
       "      <td>-0.053527</td>\n",
       "      <td>2.035030</td>\n",
       "      <td>-0.738589</td>\n",
       "      <td>0.868229</td>\n",
       "      <td>1.058415</td>\n",
       "      <td>0.024330</td>\n",
       "      <td>0.294869</td>\n",
       "      <td>0.584800</td>\n",
       "    </tr>\n",
       "    <tr>\n",
       "      <th>284804</th>\n",
       "      <td>67.88</td>\n",
       "      <td>'0'</td>\n",
       "      <td>172788</td>\n",
       "      <td>1.919565</td>\n",
       "      <td>-0.484782</td>\n",
       "      <td>0.411614</td>\n",
       "      <td>0.063119</td>\n",
       "      <td>-0.183699</td>\n",
       "      <td>-0.510602</td>\n",
       "      <td>1.329284</td>\n",
       "      <td>...</td>\n",
       "      <td>-0.087371</td>\n",
       "      <td>0.004455</td>\n",
       "      <td>-0.026561</td>\n",
       "      <td>-3.249640</td>\n",
       "      <td>-0.557828</td>\n",
       "      <td>2.630515</td>\n",
       "      <td>3.031260</td>\n",
       "      <td>-0.296827</td>\n",
       "      <td>0.708417</td>\n",
       "      <td>0.432454</td>\n",
       "    </tr>\n",
       "    <tr>\n",
       "      <th>284805</th>\n",
       "      <td>10.00</td>\n",
       "      <td>'0'</td>\n",
       "      <td>172788</td>\n",
       "      <td>-0.240440</td>\n",
       "      <td>-0.399126</td>\n",
       "      <td>-1.933849</td>\n",
       "      <td>-0.962886</td>\n",
       "      <td>-1.042082</td>\n",
       "      <td>0.449624</td>\n",
       "      <td>1.962563</td>\n",
       "      <td>...</td>\n",
       "      <td>0.546668</td>\n",
       "      <td>0.108821</td>\n",
       "      <td>0.104533</td>\n",
       "      <td>0.702510</td>\n",
       "      <td>0.689799</td>\n",
       "      <td>-0.377961</td>\n",
       "      <td>0.623708</td>\n",
       "      <td>-0.686180</td>\n",
       "      <td>0.679145</td>\n",
       "      <td>0.392087</td>\n",
       "    </tr>\n",
       "    <tr>\n",
       "      <th>284806</th>\n",
       "      <td>217.00</td>\n",
       "      <td>'0'</td>\n",
       "      <td>172792</td>\n",
       "      <td>-0.533413</td>\n",
       "      <td>-0.915427</td>\n",
       "      <td>-1.040458</td>\n",
       "      <td>-0.031513</td>\n",
       "      <td>-0.188093</td>\n",
       "      <td>-0.084316</td>\n",
       "      <td>0.041333</td>\n",
       "      <td>...</td>\n",
       "      <td>-0.818267</td>\n",
       "      <td>-0.002415</td>\n",
       "      <td>0.013649</td>\n",
       "      <td>0.703337</td>\n",
       "      <td>-0.506271</td>\n",
       "      <td>-0.012546</td>\n",
       "      <td>-0.649617</td>\n",
       "      <td>1.577006</td>\n",
       "      <td>-0.414650</td>\n",
       "      <td>0.486180</td>\n",
       "    </tr>\n",
       "  </tbody>\n",
       "</table>\n",
       "<p>284807 rows × 31 columns</p>\n",
       "</div>"
      ],
      "text/plain": [
       "        Amount Class    Time         V1       V10       V11       V12  \\\n",
       "0       149.62   '0'       0  -1.359807  0.090794 -0.551600 -0.617801   \n",
       "1         2.69   '0'       0   1.191857 -0.166974  1.612727  1.065235   \n",
       "2       378.66   '0'       1  -1.358354  0.207643  0.624501  0.066084   \n",
       "3       123.50   '0'       1  -0.966272 -0.054952 -0.226487  0.178228   \n",
       "4        69.99   '0'       2  -1.158233  0.753074 -0.822843  0.538196   \n",
       "...        ...   ...     ...        ...       ...       ...       ...   \n",
       "284802    0.77   '0'  172786 -11.881118  4.356170 -1.593105  2.711941   \n",
       "284803   24.79   '0'  172787  -0.732789 -0.975926 -0.150189  0.915802   \n",
       "284804   67.88   '0'  172788   1.919565 -0.484782  0.411614  0.063119   \n",
       "284805   10.00   '0'  172788  -0.240440 -0.399126 -1.933849 -0.962886   \n",
       "284806  217.00   '0'  172792  -0.533413 -0.915427 -1.040458 -0.031513   \n",
       "\n",
       "             V13       V14       V15  ...       V26       V27       V28  \\\n",
       "0      -0.991390 -0.311169  1.468177  ... -0.189115  0.133558 -0.021053   \n",
       "1       0.489095 -0.143772  0.635558  ...  0.125895 -0.008983  0.014724   \n",
       "2       0.717293 -0.165946  2.345865  ... -0.139097 -0.055353 -0.059752   \n",
       "3       0.507757 -0.287924 -0.631418  ... -0.221929  0.062723  0.061458   \n",
       "4       1.345852 -1.119670  0.175121  ...  0.502292  0.219422  0.215153   \n",
       "...          ...       ...       ...  ...       ...       ...       ...   \n",
       "284802 -0.689256  4.626942 -0.924459  ...  0.250034  0.943651  0.823731   \n",
       "284803  1.214756 -0.675143  1.164931  ... -0.395255  0.068472 -0.053527   \n",
       "284804 -0.183699 -0.510602  1.329284  ... -0.087371  0.004455 -0.026561   \n",
       "284805 -1.042082  0.449624  1.962563  ...  0.546668  0.108821  0.104533   \n",
       "284806 -0.188093 -0.084316  0.041333  ... -0.818267 -0.002415  0.013649   \n",
       "\n",
       "              V3        V4        V5        V6        V7        V8        V9  \n",
       "0       2.536347  1.378155 -0.338321  0.462388  0.239599  0.098698  0.363787  \n",
       "1       0.166480  0.448154  0.060018 -0.082361 -0.078803  0.085102 -0.255425  \n",
       "2       1.773209  0.379780 -0.503198  1.800499  0.791461  0.247676 -1.514654  \n",
       "3       1.792993 -0.863291 -0.010309  1.247203  0.237609  0.377436 -1.387024  \n",
       "4       1.548718  0.403034 -0.407193  0.095921  0.592941 -0.270533  0.817739  \n",
       "...          ...       ...       ...       ...       ...       ...       ...  \n",
       "284802 -9.834783 -2.066656 -5.364473 -2.606837 -4.918215  7.305334  1.914428  \n",
       "284803  2.035030 -0.738589  0.868229  1.058415  0.024330  0.294869  0.584800  \n",
       "284804 -3.249640 -0.557828  2.630515  3.031260 -0.296827  0.708417  0.432454  \n",
       "284805  0.702510  0.689799 -0.377961  0.623708 -0.686180  0.679145  0.392087  \n",
       "284806  0.703337 -0.506271 -0.012546 -0.649617  1.577006 -0.414650  0.486180  \n",
       "\n",
       "[284807 rows x 31 columns]"
      ]
     },
     "execution_count": 29,
     "metadata": {},
     "output_type": "execute_result"
    }
   ],
   "source": [
    "df2"
   ]
  },
  {
   "cell_type": "code",
   "execution_count": 30,
   "id": "726e92d8",
   "metadata": {},
   "outputs": [
    {
     "data": {
      "text/html": [
       "<div>\n",
       "<style scoped>\n",
       "    .dataframe tbody tr th:only-of-type {\n",
       "        vertical-align: middle;\n",
       "    }\n",
       "\n",
       "    .dataframe tbody tr th {\n",
       "        vertical-align: top;\n",
       "    }\n",
       "\n",
       "    .dataframe thead th {\n",
       "        text-align: right;\n",
       "    }\n",
       "</style>\n",
       "<table border=\"1\" class=\"dataframe\">\n",
       "  <thead>\n",
       "    <tr style=\"text-align: right;\">\n",
       "      <th></th>\n",
       "      <th>Amount</th>\n",
       "      <th>Time</th>\n",
       "      <th>V1</th>\n",
       "      <th>V10</th>\n",
       "      <th>V11</th>\n",
       "      <th>V12</th>\n",
       "      <th>V13</th>\n",
       "      <th>V14</th>\n",
       "      <th>V15</th>\n",
       "      <th>V16</th>\n",
       "      <th>...</th>\n",
       "      <th>V26</th>\n",
       "      <th>V27</th>\n",
       "      <th>V28</th>\n",
       "      <th>V3</th>\n",
       "      <th>V4</th>\n",
       "      <th>V5</th>\n",
       "      <th>V6</th>\n",
       "      <th>V7</th>\n",
       "      <th>V8</th>\n",
       "      <th>V9</th>\n",
       "    </tr>\n",
       "  </thead>\n",
       "  <tbody>\n",
       "    <tr>\n",
       "      <th>Amount</th>\n",
       "      <td>1.000000</td>\n",
       "      <td>-0.010596</td>\n",
       "      <td>-2.277087e-01</td>\n",
       "      <td>-1.015021e-01</td>\n",
       "      <td>1.039770e-04</td>\n",
       "      <td>-9.541802e-03</td>\n",
       "      <td>5.293409e-03</td>\n",
       "      <td>3.375117e-02</td>\n",
       "      <td>-2.985848e-03</td>\n",
       "      <td>-3.909527e-03</td>\n",
       "      <td>...</td>\n",
       "      <td>-3.208037e-03</td>\n",
       "      <td>2.882546e-02</td>\n",
       "      <td>1.025822e-02</td>\n",
       "      <td>-2.108805e-01</td>\n",
       "      <td>9.873167e-02</td>\n",
       "      <td>-3.863563e-01</td>\n",
       "      <td>2.159812e-01</td>\n",
       "      <td>3.973113e-01</td>\n",
       "      <td>-1.030791e-01</td>\n",
       "      <td>-4.424560e-02</td>\n",
       "    </tr>\n",
       "    <tr>\n",
       "      <th>Time</th>\n",
       "      <td>-0.010596</td>\n",
       "      <td>1.000000</td>\n",
       "      <td>1.173963e-01</td>\n",
       "      <td>3.061663e-02</td>\n",
       "      <td>-2.476894e-01</td>\n",
       "      <td>1.243481e-01</td>\n",
       "      <td>-6.590202e-02</td>\n",
       "      <td>-9.875682e-02</td>\n",
       "      <td>-1.834533e-01</td>\n",
       "      <td>1.190287e-02</td>\n",
       "      <td>...</td>\n",
       "      <td>-4.140710e-02</td>\n",
       "      <td>-5.134591e-03</td>\n",
       "      <td>-9.412688e-03</td>\n",
       "      <td>-4.196182e-01</td>\n",
       "      <td>-1.052602e-01</td>\n",
       "      <td>1.730721e-01</td>\n",
       "      <td>-6.301647e-02</td>\n",
       "      <td>8.471437e-02</td>\n",
       "      <td>-3.694943e-02</td>\n",
       "      <td>-8.660434e-03</td>\n",
       "    </tr>\n",
       "    <tr>\n",
       "      <th>V1</th>\n",
       "      <td>-0.227709</td>\n",
       "      <td>0.117396</td>\n",
       "      <td>1.000000e+00</td>\n",
       "      <td>7.547226e-17</td>\n",
       "      <td>2.043889e-16</td>\n",
       "      <td>1.963176e-16</td>\n",
       "      <td>-3.677082e-17</td>\n",
       "      <td>-5.019616e-16</td>\n",
       "      <td>3.569646e-16</td>\n",
       "      <td>5.534652e-17</td>\n",
       "      <td>...</td>\n",
       "      <td>-4.026376e-18</td>\n",
       "      <td>1.584758e-16</td>\n",
       "      <td>2.352899e-15</td>\n",
       "      <td>-1.216277e-15</td>\n",
       "      <td>-9.202197e-16</td>\n",
       "      <td>2.608024e-17</td>\n",
       "      <td>-6.610586e-16</td>\n",
       "      <td>-1.021829e-15</td>\n",
       "      <td>-2.649033e-16</td>\n",
       "      <td>-1.626775e-16</td>\n",
       "    </tr>\n",
       "    <tr>\n",
       "      <th>V10</th>\n",
       "      <td>-0.101502</td>\n",
       "      <td>0.030617</td>\n",
       "      <td>7.547226e-17</td>\n",
       "      <td>1.000000e+00</td>\n",
       "      <td>-4.671092e-16</td>\n",
       "      <td>1.770406e-15</td>\n",
       "      <td>-5.356946e-16</td>\n",
       "      <td>2.488928e-16</td>\n",
       "      <td>5.629954e-16</td>\n",
       "      <td>4.002792e-16</td>\n",
       "      <td>...</td>\n",
       "      <td>-2.985913e-16</td>\n",
       "      <td>-2.488521e-16</td>\n",
       "      <td>1.154053e-16</td>\n",
       "      <td>1.162615e-15</td>\n",
       "      <td>2.389054e-16</td>\n",
       "      <td>-4.959797e-16</td>\n",
       "      <td>7.874231e-17</td>\n",
       "      <td>-7.378812e-17</td>\n",
       "      <td>-2.719168e-16</td>\n",
       "      <td>-4.998077e-16</td>\n",
       "    </tr>\n",
       "    <tr>\n",
       "      <th>V11</th>\n",
       "      <td>0.000104</td>\n",
       "      <td>-0.247689</td>\n",
       "      <td>2.043889e-16</td>\n",
       "      <td>-4.671092e-16</td>\n",
       "      <td>1.000000e+00</td>\n",
       "      <td>6.697295e-16</td>\n",
       "      <td>1.798335e-16</td>\n",
       "      <td>3.038772e-16</td>\n",
       "      <td>1.326880e-15</td>\n",
       "      <td>6.088750e-16</td>\n",
       "      <td>...</td>\n",
       "      <td>-1.166762e-16</td>\n",
       "      <td>-2.405034e-16</td>\n",
       "      <td>-4.323948e-16</td>\n",
       "      <td>1.581856e-15</td>\n",
       "      <td>3.565982e-16</td>\n",
       "      <td>7.027842e-16</td>\n",
       "      <td>1.986820e-15</td>\n",
       "      <td>1.600485e-16</td>\n",
       "      <td>2.601287e-16</td>\n",
       "      <td>1.388229e-16</td>\n",
       "    </tr>\n",
       "    <tr>\n",
       "      <th>V12</th>\n",
       "      <td>-0.009542</td>\n",
       "      <td>0.124348</td>\n",
       "      <td>1.963176e-16</td>\n",
       "      <td>1.770406e-15</td>\n",
       "      <td>6.697295e-16</td>\n",
       "      <td>1.000000e+00</td>\n",
       "      <td>-2.315150e-14</td>\n",
       "      <td>3.078079e-17</td>\n",
       "      <td>-1.365129e-15</td>\n",
       "      <td>5.459476e-16</td>\n",
       "      <td>...</td>\n",
       "      <td>-2.268842e-16</td>\n",
       "      <td>-4.643692e-16</td>\n",
       "      <td>6.287344e-16</td>\n",
       "      <td>6.450182e-16</td>\n",
       "      <td>-5.441311e-16</td>\n",
       "      <td>7.392122e-16</td>\n",
       "      <td>2.298904e-16</td>\n",
       "      <td>-4.162044e-17</td>\n",
       "      <td>1.809978e-16</td>\n",
       "      <td>-1.058050e-15</td>\n",
       "    </tr>\n",
       "    <tr>\n",
       "      <th>V13</th>\n",
       "      <td>0.005293</td>\n",
       "      <td>-0.065902</td>\n",
       "      <td>-3.677082e-17</td>\n",
       "      <td>-5.356946e-16</td>\n",
       "      <td>1.798335e-16</td>\n",
       "      <td>-2.315150e-14</td>\n",
       "      <td>1.000000e+00</td>\n",
       "      <td>2.123827e-15</td>\n",
       "      <td>1.085192e-16</td>\n",
       "      <td>5.891446e-16</td>\n",
       "      <td>...</td>\n",
       "      <td>-1.855168e-16</td>\n",
       "      <td>-4.875653e-16</td>\n",
       "      <td>1.142662e-15</td>\n",
       "      <td>2.695598e-16</td>\n",
       "      <td>1.288910e-16</td>\n",
       "      <td>5.908619e-16</td>\n",
       "      <td>-1.246669e-16</td>\n",
       "      <td>7.329372e-20</td>\n",
       "      <td>-2.916599e-16</td>\n",
       "      <td>2.259620e-15</td>\n",
       "    </tr>\n",
       "    <tr>\n",
       "      <th>V14</th>\n",
       "      <td>0.033751</td>\n",
       "      <td>-0.098757</td>\n",
       "      <td>-5.019616e-16</td>\n",
       "      <td>2.488928e-16</td>\n",
       "      <td>3.038772e-16</td>\n",
       "      <td>3.078079e-17</td>\n",
       "      <td>2.123827e-15</td>\n",
       "      <td>1.000000e+00</td>\n",
       "      <td>-3.455196e-17</td>\n",
       "      <td>-1.495868e-15</td>\n",
       "      <td>...</td>\n",
       "      <td>-1.869073e-16</td>\n",
       "      <td>1.436496e-16</td>\n",
       "      <td>2.350906e-15</td>\n",
       "      <td>4.501793e-16</td>\n",
       "      <td>2.152272e-16</td>\n",
       "      <td>6.773775e-16</td>\n",
       "      <td>2.561375e-16</td>\n",
       "      <td>2.611701e-16</td>\n",
       "      <td>-8.752351e-16</td>\n",
       "      <td>3.783840e-15</td>\n",
       "    </tr>\n",
       "    <tr>\n",
       "      <th>V15</th>\n",
       "      <td>-0.002986</td>\n",
       "      <td>-0.183453</td>\n",
       "      <td>3.569646e-16</td>\n",
       "      <td>5.629954e-16</td>\n",
       "      <td>1.326880e-15</td>\n",
       "      <td>-1.365129e-15</td>\n",
       "      <td>1.085192e-16</td>\n",
       "      <td>-3.455196e-17</td>\n",
       "      <td>1.000000e+00</td>\n",
       "      <td>1.319540e-15</td>\n",
       "      <td>...</td>\n",
       "      <td>2.830680e-16</td>\n",
       "      <td>-1.147519e-15</td>\n",
       "      <td>-1.268933e-15</td>\n",
       "      <td>8.978792e-16</td>\n",
       "      <td>1.482365e-16</td>\n",
       "      <td>-8.320593e-16</td>\n",
       "      <td>-1.541485e-15</td>\n",
       "      <td>-1.699004e-16</td>\n",
       "      <td>4.056677e-16</td>\n",
       "      <td>-1.060914e-15</td>\n",
       "    </tr>\n",
       "    <tr>\n",
       "      <th>V16</th>\n",
       "      <td>-0.003910</td>\n",
       "      <td>0.011903</td>\n",
       "      <td>5.534652e-17</td>\n",
       "      <td>4.002792e-16</td>\n",
       "      <td>6.088750e-16</td>\n",
       "      <td>5.459476e-16</td>\n",
       "      <td>5.891446e-16</td>\n",
       "      <td>-1.495868e-15</td>\n",
       "      <td>1.319540e-15</td>\n",
       "      <td>1.000000e+00</td>\n",
       "      <td>...</td>\n",
       "      <td>-7.453441e-16</td>\n",
       "      <td>7.354298e-16</td>\n",
       "      <td>7.858057e-16</td>\n",
       "      <td>8.407601e-16</td>\n",
       "      <td>-9.449109e-16</td>\n",
       "      <td>2.217676e-15</td>\n",
       "      <td>6.413384e-18</td>\n",
       "      <td>4.614847e-17</td>\n",
       "      <td>-5.553437e-16</td>\n",
       "      <td>-1.195999e-15</td>\n",
       "    </tr>\n",
       "    <tr>\n",
       "      <th>V17</th>\n",
       "      <td>0.007309</td>\n",
       "      <td>-0.073297</td>\n",
       "      <td>-4.078696e-16</td>\n",
       "      <td>1.512667e-15</td>\n",
       "      <td>7.249443e-16</td>\n",
       "      <td>5.142167e-16</td>\n",
       "      <td>7.927356e-17</td>\n",
       "      <td>1.145062e-15</td>\n",
       "      <td>7.125637e-16</td>\n",
       "      <td>2.477326e-15</td>\n",
       "      <td>...</td>\n",
       "      <td>7.335315e-16</td>\n",
       "      <td>5.454138e-16</td>\n",
       "      <td>-1.432373e-16</td>\n",
       "      <td>7.522020e-16</td>\n",
       "      <td>-2.757788e-16</td>\n",
       "      <td>1.290993e-16</td>\n",
       "      <td>1.912445e-16</td>\n",
       "      <td>2.382090e-16</td>\n",
       "      <td>-2.055833e-16</td>\n",
       "      <td>1.112022e-15</td>\n",
       "    </tr>\n",
       "    <tr>\n",
       "      <th>V18</th>\n",
       "      <td>0.035650</td>\n",
       "      <td>0.090438</td>\n",
       "      <td>3.044282e-17</td>\n",
       "      <td>4.027557e-16</td>\n",
       "      <td>1.340180e-16</td>\n",
       "      <td>4.018813e-17</td>\n",
       "      <td>4.224955e-16</td>\n",
       "      <td>1.650145e-15</td>\n",
       "      <td>3.500825e-16</td>\n",
       "      <td>-2.421710e-15</td>\n",
       "      <td>...</td>\n",
       "      <td>2.988928e-16</td>\n",
       "      <td>1.813046e-16</td>\n",
       "      <td>8.567721e-16</td>\n",
       "      <td>1.502563e-16</td>\n",
       "      <td>-4.961076e-16</td>\n",
       "      <td>5.362151e-16</td>\n",
       "      <td>1.344462e-16</td>\n",
       "      <td>5.456113e-17</td>\n",
       "      <td>-3.875804e-16</td>\n",
       "      <td>4.938548e-16</td>\n",
       "    </tr>\n",
       "    <tr>\n",
       "      <th>V19</th>\n",
       "      <td>-0.056151</td>\n",
       "      <td>0.028975</td>\n",
       "      <td>1.444858e-16</td>\n",
       "      <td>3.067867e-17</td>\n",
       "      <td>-7.640649e-16</td>\n",
       "      <td>1.789650e-16</td>\n",
       "      <td>-1.987132e-16</td>\n",
       "      <td>2.080473e-16</td>\n",
       "      <td>-1.496251e-15</td>\n",
       "      <td>1.315936e-15</td>\n",
       "      <td>...</td>\n",
       "      <td>5.841232e-16</td>\n",
       "      <td>-2.052772e-16</td>\n",
       "      <td>-1.373983e-15</td>\n",
       "      <td>3.444131e-16</td>\n",
       "      <td>-4.099446e-16</td>\n",
       "      <td>-1.507465e-16</td>\n",
       "      <td>-2.097067e-16</td>\n",
       "      <td>-1.713013e-16</td>\n",
       "      <td>-3.924430e-16</td>\n",
       "      <td>-1.438665e-16</td>\n",
       "    </tr>\n",
       "    <tr>\n",
       "      <th>V2</th>\n",
       "      <td>-0.531409</td>\n",
       "      <td>-0.010593</td>\n",
       "      <td>4.253690e-16</td>\n",
       "      <td>-3.977668e-16</td>\n",
       "      <td>1.747704e-16</td>\n",
       "      <td>-9.623832e-17</td>\n",
       "      <td>6.392877e-16</td>\n",
       "      <td>-1.776752e-16</td>\n",
       "      <td>-4.454643e-17</td>\n",
       "      <td>1.485380e-17</td>\n",
       "      <td>...</td>\n",
       "      <td>1.831832e-16</td>\n",
       "      <td>-4.992774e-16</td>\n",
       "      <td>-5.740125e-16</td>\n",
       "      <td>3.435492e-16</td>\n",
       "      <td>-1.114300e-15</td>\n",
       "      <td>5.164636e-16</td>\n",
       "      <td>2.817916e-16</td>\n",
       "      <td>2.096357e-16</td>\n",
       "      <td>-4.881111e-17</td>\n",
       "      <td>2.248790e-17</td>\n",
       "    </tr>\n",
       "    <tr>\n",
       "      <th>V20</th>\n",
       "      <td>0.339403</td>\n",
       "      <td>-0.050866</td>\n",
       "      <td>4.590434e-16</td>\n",
       "      <td>-1.339899e-15</td>\n",
       "      <td>-1.286282e-16</td>\n",
       "      <td>3.601178e-16</td>\n",
       "      <td>2.295502e-17</td>\n",
       "      <td>-2.490692e-17</td>\n",
       "      <td>4.305737e-16</td>\n",
       "      <td>5.260866e-16</td>\n",
       "      <td>...</td>\n",
       "      <td>-2.887484e-16</td>\n",
       "      <td>-1.187770e-15</td>\n",
       "      <td>-3.616798e-16</td>\n",
       "      <td>-9.496488e-16</td>\n",
       "      <td>-1.633881e-16</td>\n",
       "      <td>-3.479625e-16</td>\n",
       "      <td>-2.050914e-16</td>\n",
       "      <td>9.514347e-16</td>\n",
       "      <td>2.182801e-16</td>\n",
       "      <td>-2.301906e-16</td>\n",
       "    </tr>\n",
       "    <tr>\n",
       "      <th>V21</th>\n",
       "      <td>0.105999</td>\n",
       "      <td>0.044736</td>\n",
       "      <td>-2.526643e-16</td>\n",
       "      <td>1.171334e-15</td>\n",
       "      <td>-5.631231e-16</td>\n",
       "      <td>7.259617e-16</td>\n",
       "      <td>9.221999e-17</td>\n",
       "      <td>-3.085480e-16</td>\n",
       "      <td>5.630448e-17</td>\n",
       "      <td>-4.653232e-16</td>\n",
       "      <td>...</td>\n",
       "      <td>-5.186694e-16</td>\n",
       "      <td>-1.212842e-15</td>\n",
       "      <td>5.712076e-16</td>\n",
       "      <td>5.204581e-17</td>\n",
       "      <td>-2.069914e-16</td>\n",
       "      <td>-3.987608e-16</td>\n",
       "      <td>4.689012e-17</td>\n",
       "      <td>-2.414939e-16</td>\n",
       "      <td>3.830378e-16</td>\n",
       "      <td>1.954937e-16</td>\n",
       "    </tr>\n",
       "    <tr>\n",
       "      <th>V22</th>\n",
       "      <td>-0.064801</td>\n",
       "      <td>0.144059</td>\n",
       "      <td>-4.091795e-16</td>\n",
       "      <td>-6.308121e-16</td>\n",
       "      <td>8.019537e-16</td>\n",
       "      <td>1.647129e-16</td>\n",
       "      <td>6.291073e-17</td>\n",
       "      <td>3.946904e-16</td>\n",
       "      <td>-4.096176e-16</td>\n",
       "      <td>-7.127030e-17</td>\n",
       "      <td>...</td>\n",
       "      <td>1.950574e-17</td>\n",
       "      <td>-7.780952e-18</td>\n",
       "      <td>-4.887377e-16</td>\n",
       "      <td>-1.137187e-15</td>\n",
       "      <td>-6.879273e-17</td>\n",
       "      <td>1.239562e-16</td>\n",
       "      <td>1.011746e-17</td>\n",
       "      <td>-8.873190e-16</td>\n",
       "      <td>2.170278e-16</td>\n",
       "      <td>-6.911335e-16</td>\n",
       "    </tr>\n",
       "    <tr>\n",
       "      <th>V23</th>\n",
       "      <td>-0.112633</td>\n",
       "      <td>0.051142</td>\n",
       "      <td>6.613763e-16</td>\n",
       "      <td>3.256819e-16</td>\n",
       "      <td>-4.623706e-16</td>\n",
       "      <td>1.524128e-16</td>\n",
       "      <td>-6.997525e-16</td>\n",
       "      <td>3.706752e-16</td>\n",
       "      <td>-4.016251e-16</td>\n",
       "      <td>4.997751e-16</td>\n",
       "      <td>...</td>\n",
       "      <td>1.125766e-15</td>\n",
       "      <td>3.175345e-16</td>\n",
       "      <td>1.587113e-15</td>\n",
       "      <td>-5.096969e-16</td>\n",
       "      <td>9.108576e-17</td>\n",
       "      <td>-1.279175e-17</td>\n",
       "      <td>9.065948e-17</td>\n",
       "      <td>-4.377793e-16</td>\n",
       "      <td>4.653445e-17</td>\n",
       "      <td>-5.451060e-16</td>\n",
       "    </tr>\n",
       "    <tr>\n",
       "      <th>V24</th>\n",
       "      <td>0.005146</td>\n",
       "      <td>-0.016182</td>\n",
       "      <td>-3.026876e-17</td>\n",
       "      <td>-1.293387e-16</td>\n",
       "      <td>1.928021e-15</td>\n",
       "      <td>4.446441e-16</td>\n",
       "      <td>-1.792175e-16</td>\n",
       "      <td>2.034185e-16</td>\n",
       "      <td>-4.415423e-16</td>\n",
       "      <td>-2.987122e-16</td>\n",
       "      <td>...</td>\n",
       "      <td>1.070208e-16</td>\n",
       "      <td>-2.093679e-16</td>\n",
       "      <td>-3.079522e-16</td>\n",
       "      <td>1.781582e-18</td>\n",
       "      <td>1.551901e-16</td>\n",
       "      <td>-1.142393e-15</td>\n",
       "      <td>-1.072014e-15</td>\n",
       "      <td>1.035570e-17</td>\n",
       "      <td>-9.162113e-17</td>\n",
       "      <td>-1.444737e-16</td>\n",
       "    </tr>\n",
       "    <tr>\n",
       "      <th>V25</th>\n",
       "      <td>-0.047837</td>\n",
       "      <td>-0.233083</td>\n",
       "      <td>-9.769195e-16</td>\n",
       "      <td>-2.878345e-16</td>\n",
       "      <td>-5.304270e-16</td>\n",
       "      <td>-5.558262e-16</td>\n",
       "      <td>-5.356873e-16</td>\n",
       "      <td>-8.290074e-16</td>\n",
       "      <td>3.027869e-16</td>\n",
       "      <td>-1.302882e-15</td>\n",
       "      <td>...</td>\n",
       "      <td>2.635436e-15</td>\n",
       "      <td>-6.508049e-16</td>\n",
       "      <td>-9.251259e-16</td>\n",
       "      <td>-1.154055e-15</td>\n",
       "      <td>6.038895e-16</td>\n",
       "      <td>5.189170e-16</td>\n",
       "      <td>4.304189e-16</td>\n",
       "      <td>-3.099625e-16</td>\n",
       "      <td>-4.655986e-16</td>\n",
       "      <td>6.510670e-16</td>\n",
       "    </tr>\n",
       "    <tr>\n",
       "      <th>V26</th>\n",
       "      <td>-0.003208</td>\n",
       "      <td>-0.041407</td>\n",
       "      <td>-4.026376e-18</td>\n",
       "      <td>-2.985913e-16</td>\n",
       "      <td>-1.166762e-16</td>\n",
       "      <td>-2.268842e-16</td>\n",
       "      <td>-1.855168e-16</td>\n",
       "      <td>-1.869073e-16</td>\n",
       "      <td>2.830680e-16</td>\n",
       "      <td>-7.453441e-16</td>\n",
       "      <td>...</td>\n",
       "      <td>1.000000e+00</td>\n",
       "      <td>-1.761775e-16</td>\n",
       "      <td>-2.621241e-16</td>\n",
       "      <td>-1.654350e-16</td>\n",
       "      <td>-4.503475e-16</td>\n",
       "      <td>4.024654e-16</td>\n",
       "      <td>-1.138810e-16</td>\n",
       "      <td>-1.015121e-15</td>\n",
       "      <td>-1.761063e-16</td>\n",
       "      <td>-8.189252e-16</td>\n",
       "    </tr>\n",
       "    <tr>\n",
       "      <th>V27</th>\n",
       "      <td>0.028825</td>\n",
       "      <td>-0.005135</td>\n",
       "      <td>1.584758e-16</td>\n",
       "      <td>-2.488521e-16</td>\n",
       "      <td>-2.405034e-16</td>\n",
       "      <td>-4.643692e-16</td>\n",
       "      <td>-4.875653e-16</td>\n",
       "      <td>1.436496e-16</td>\n",
       "      <td>-1.147519e-15</td>\n",
       "      <td>7.354298e-16</td>\n",
       "      <td>...</td>\n",
       "      <td>-1.761775e-16</td>\n",
       "      <td>1.000000e+00</td>\n",
       "      <td>-3.179890e-16</td>\n",
       "      <td>9.137112e-16</td>\n",
       "      <td>3.581224e-17</td>\n",
       "      <td>6.687606e-16</td>\n",
       "      <td>-5.246271e-16</td>\n",
       "      <td>-1.670105e-15</td>\n",
       "      <td>7.638430e-17</td>\n",
       "      <td>-8.564297e-17</td>\n",
       "    </tr>\n",
       "    <tr>\n",
       "      <th>V28</th>\n",
       "      <td>0.010258</td>\n",
       "      <td>-0.009413</td>\n",
       "      <td>2.352899e-15</td>\n",
       "      <td>1.154053e-16</td>\n",
       "      <td>-4.323948e-16</td>\n",
       "      <td>6.287344e-16</td>\n",
       "      <td>1.142662e-15</td>\n",
       "      <td>2.350906e-15</td>\n",
       "      <td>-1.268933e-15</td>\n",
       "      <td>7.858057e-16</td>\n",
       "      <td>...</td>\n",
       "      <td>-2.621241e-16</td>\n",
       "      <td>-3.179890e-16</td>\n",
       "      <td>1.000000e+00</td>\n",
       "      <td>6.272961e-16</td>\n",
       "      <td>-6.989891e-18</td>\n",
       "      <td>8.354008e-17</td>\n",
       "      <td>2.301344e-16</td>\n",
       "      <td>-2.951432e-16</td>\n",
       "      <td>-6.846073e-16</td>\n",
       "      <td>1.225007e-15</td>\n",
       "    </tr>\n",
       "    <tr>\n",
       "      <th>V3</th>\n",
       "      <td>-0.210880</td>\n",
       "      <td>-0.419618</td>\n",
       "      <td>-1.216277e-15</td>\n",
       "      <td>1.162615e-15</td>\n",
       "      <td>1.581856e-15</td>\n",
       "      <td>6.450182e-16</td>\n",
       "      <td>2.695598e-16</td>\n",
       "      <td>4.501793e-16</td>\n",
       "      <td>8.978792e-16</td>\n",
       "      <td>8.407601e-16</td>\n",
       "      <td>...</td>\n",
       "      <td>-1.654350e-16</td>\n",
       "      <td>9.137112e-16</td>\n",
       "      <td>6.272961e-16</td>\n",
       "      <td>1.000000e+00</td>\n",
       "      <td>4.743135e-16</td>\n",
       "      <td>-7.735784e-17</td>\n",
       "      <td>1.641693e-15</td>\n",
       "      <td>4.729032e-16</td>\n",
       "      <td>-1.305423e-15</td>\n",
       "      <td>5.536919e-16</td>\n",
       "    </tr>\n",
       "    <tr>\n",
       "      <th>V4</th>\n",
       "      <td>0.098732</td>\n",
       "      <td>-0.105260</td>\n",
       "      <td>-9.202197e-16</td>\n",
       "      <td>2.389054e-16</td>\n",
       "      <td>3.565982e-16</td>\n",
       "      <td>-5.441311e-16</td>\n",
       "      <td>1.288910e-16</td>\n",
       "      <td>2.152272e-16</td>\n",
       "      <td>1.482365e-16</td>\n",
       "      <td>-9.449109e-16</td>\n",
       "      <td>...</td>\n",
       "      <td>-4.503475e-16</td>\n",
       "      <td>3.581224e-17</td>\n",
       "      <td>-6.989891e-18</td>\n",
       "      <td>4.743135e-16</td>\n",
       "      <td>1.000000e+00</td>\n",
       "      <td>-1.719042e-15</td>\n",
       "      <td>-7.272738e-16</td>\n",
       "      <td>-4.190456e-16</td>\n",
       "      <td>5.852585e-16</td>\n",
       "      <td>6.847746e-16</td>\n",
       "    </tr>\n",
       "    <tr>\n",
       "      <th>V5</th>\n",
       "      <td>-0.386356</td>\n",
       "      <td>0.173072</td>\n",
       "      <td>2.608024e-17</td>\n",
       "      <td>-4.959797e-16</td>\n",
       "      <td>7.027842e-16</td>\n",
       "      <td>7.392122e-16</td>\n",
       "      <td>5.908619e-16</td>\n",
       "      <td>6.773775e-16</td>\n",
       "      <td>-8.320593e-16</td>\n",
       "      <td>2.217676e-15</td>\n",
       "      <td>...</td>\n",
       "      <td>4.024654e-16</td>\n",
       "      <td>6.687606e-16</td>\n",
       "      <td>8.354008e-17</td>\n",
       "      <td>-7.735784e-17</td>\n",
       "      <td>-1.719042e-15</td>\n",
       "      <td>1.000000e+00</td>\n",
       "      <td>2.357426e-16</td>\n",
       "      <td>2.824332e-16</td>\n",
       "      <td>7.292837e-16</td>\n",
       "      <td>7.224887e-16</td>\n",
       "    </tr>\n",
       "    <tr>\n",
       "      <th>V6</th>\n",
       "      <td>0.215981</td>\n",
       "      <td>-0.063016</td>\n",
       "      <td>-6.610586e-16</td>\n",
       "      <td>7.874231e-17</td>\n",
       "      <td>1.986820e-15</td>\n",
       "      <td>2.298904e-16</td>\n",
       "      <td>-1.246669e-16</td>\n",
       "      <td>2.561375e-16</td>\n",
       "      <td>-1.541485e-15</td>\n",
       "      <td>6.413384e-18</td>\n",
       "      <td>...</td>\n",
       "      <td>-1.138810e-16</td>\n",
       "      <td>-5.246271e-16</td>\n",
       "      <td>2.301344e-16</td>\n",
       "      <td>1.641693e-15</td>\n",
       "      <td>-7.272738e-16</td>\n",
       "      <td>2.357426e-16</td>\n",
       "      <td>1.000000e+00</td>\n",
       "      <td>1.014884e-16</td>\n",
       "      <td>-9.875764e-17</td>\n",
       "      <td>4.309963e-16</td>\n",
       "    </tr>\n",
       "    <tr>\n",
       "      <th>V7</th>\n",
       "      <td>0.397311</td>\n",
       "      <td>0.084714</td>\n",
       "      <td>-1.021829e-15</td>\n",
       "      <td>-7.378812e-17</td>\n",
       "      <td>1.600485e-16</td>\n",
       "      <td>-4.162044e-17</td>\n",
       "      <td>7.329372e-20</td>\n",
       "      <td>2.611701e-16</td>\n",
       "      <td>-1.699004e-16</td>\n",
       "      <td>4.614847e-17</td>\n",
       "      <td>...</td>\n",
       "      <td>-1.015121e-15</td>\n",
       "      <td>-1.670105e-15</td>\n",
       "      <td>-2.951432e-16</td>\n",
       "      <td>4.729032e-16</td>\n",
       "      <td>-4.190456e-16</td>\n",
       "      <td>2.824332e-16</td>\n",
       "      <td>1.014884e-16</td>\n",
       "      <td>1.000000e+00</td>\n",
       "      <td>3.333597e-16</td>\n",
       "      <td>1.100050e-15</td>\n",
       "    </tr>\n",
       "    <tr>\n",
       "      <th>V8</th>\n",
       "      <td>-0.103079</td>\n",
       "      <td>-0.036949</td>\n",
       "      <td>-2.649033e-16</td>\n",
       "      <td>-2.719168e-16</td>\n",
       "      <td>2.601287e-16</td>\n",
       "      <td>1.809978e-16</td>\n",
       "      <td>-2.916599e-16</td>\n",
       "      <td>-8.752351e-16</td>\n",
       "      <td>4.056677e-16</td>\n",
       "      <td>-5.553437e-16</td>\n",
       "      <td>...</td>\n",
       "      <td>-1.761063e-16</td>\n",
       "      <td>7.638430e-17</td>\n",
       "      <td>-6.846073e-16</td>\n",
       "      <td>-1.305423e-15</td>\n",
       "      <td>5.852585e-16</td>\n",
       "      <td>7.292837e-16</td>\n",
       "      <td>-9.875764e-17</td>\n",
       "      <td>3.333597e-16</td>\n",
       "      <td>1.000000e+00</td>\n",
       "      <td>4.340010e-16</td>\n",
       "    </tr>\n",
       "    <tr>\n",
       "      <th>V9</th>\n",
       "      <td>-0.044246</td>\n",
       "      <td>-0.008660</td>\n",
       "      <td>-1.626775e-16</td>\n",
       "      <td>-4.998077e-16</td>\n",
       "      <td>1.388229e-16</td>\n",
       "      <td>-1.058050e-15</td>\n",
       "      <td>2.259620e-15</td>\n",
       "      <td>3.783840e-15</td>\n",
       "      <td>-1.060914e-15</td>\n",
       "      <td>-1.195999e-15</td>\n",
       "      <td>...</td>\n",
       "      <td>-8.189252e-16</td>\n",
       "      <td>-8.564297e-17</td>\n",
       "      <td>1.225007e-15</td>\n",
       "      <td>5.536919e-16</td>\n",
       "      <td>6.847746e-16</td>\n",
       "      <td>7.224887e-16</td>\n",
       "      <td>4.309963e-16</td>\n",
       "      <td>1.100050e-15</td>\n",
       "      <td>4.340010e-16</td>\n",
       "      <td>1.000000e+00</td>\n",
       "    </tr>\n",
       "  </tbody>\n",
       "</table>\n",
       "<p>30 rows × 30 columns</p>\n",
       "</div>"
      ],
      "text/plain": [
       "          Amount      Time            V1           V10           V11  \\\n",
       "Amount  1.000000 -0.010596 -2.277087e-01 -1.015021e-01  1.039770e-04   \n",
       "Time   -0.010596  1.000000  1.173963e-01  3.061663e-02 -2.476894e-01   \n",
       "V1     -0.227709  0.117396  1.000000e+00  7.547226e-17  2.043889e-16   \n",
       "V10    -0.101502  0.030617  7.547226e-17  1.000000e+00 -4.671092e-16   \n",
       "V11     0.000104 -0.247689  2.043889e-16 -4.671092e-16  1.000000e+00   \n",
       "V12    -0.009542  0.124348  1.963176e-16  1.770406e-15  6.697295e-16   \n",
       "V13     0.005293 -0.065902 -3.677082e-17 -5.356946e-16  1.798335e-16   \n",
       "V14     0.033751 -0.098757 -5.019616e-16  2.488928e-16  3.038772e-16   \n",
       "V15    -0.002986 -0.183453  3.569646e-16  5.629954e-16  1.326880e-15   \n",
       "V16    -0.003910  0.011903  5.534652e-17  4.002792e-16  6.088750e-16   \n",
       "V17     0.007309 -0.073297 -4.078696e-16  1.512667e-15  7.249443e-16   \n",
       "V18     0.035650  0.090438  3.044282e-17  4.027557e-16  1.340180e-16   \n",
       "V19    -0.056151  0.028975  1.444858e-16  3.067867e-17 -7.640649e-16   \n",
       "V2     -0.531409 -0.010593  4.253690e-16 -3.977668e-16  1.747704e-16   \n",
       "V20     0.339403 -0.050866  4.590434e-16 -1.339899e-15 -1.286282e-16   \n",
       "V21     0.105999  0.044736 -2.526643e-16  1.171334e-15 -5.631231e-16   \n",
       "V22    -0.064801  0.144059 -4.091795e-16 -6.308121e-16  8.019537e-16   \n",
       "V23    -0.112633  0.051142  6.613763e-16  3.256819e-16 -4.623706e-16   \n",
       "V24     0.005146 -0.016182 -3.026876e-17 -1.293387e-16  1.928021e-15   \n",
       "V25    -0.047837 -0.233083 -9.769195e-16 -2.878345e-16 -5.304270e-16   \n",
       "V26    -0.003208 -0.041407 -4.026376e-18 -2.985913e-16 -1.166762e-16   \n",
       "V27     0.028825 -0.005135  1.584758e-16 -2.488521e-16 -2.405034e-16   \n",
       "V28     0.010258 -0.009413  2.352899e-15  1.154053e-16 -4.323948e-16   \n",
       "V3     -0.210880 -0.419618 -1.216277e-15  1.162615e-15  1.581856e-15   \n",
       "V4      0.098732 -0.105260 -9.202197e-16  2.389054e-16  3.565982e-16   \n",
       "V5     -0.386356  0.173072  2.608024e-17 -4.959797e-16  7.027842e-16   \n",
       "V6      0.215981 -0.063016 -6.610586e-16  7.874231e-17  1.986820e-15   \n",
       "V7      0.397311  0.084714 -1.021829e-15 -7.378812e-17  1.600485e-16   \n",
       "V8     -0.103079 -0.036949 -2.649033e-16 -2.719168e-16  2.601287e-16   \n",
       "V9     -0.044246 -0.008660 -1.626775e-16 -4.998077e-16  1.388229e-16   \n",
       "\n",
       "                 V12           V13           V14           V15           V16  \\\n",
       "Amount -9.541802e-03  5.293409e-03  3.375117e-02 -2.985848e-03 -3.909527e-03   \n",
       "Time    1.243481e-01 -6.590202e-02 -9.875682e-02 -1.834533e-01  1.190287e-02   \n",
       "V1      1.963176e-16 -3.677082e-17 -5.019616e-16  3.569646e-16  5.534652e-17   \n",
       "V10     1.770406e-15 -5.356946e-16  2.488928e-16  5.629954e-16  4.002792e-16   \n",
       "V11     6.697295e-16  1.798335e-16  3.038772e-16  1.326880e-15  6.088750e-16   \n",
       "V12     1.000000e+00 -2.315150e-14  3.078079e-17 -1.365129e-15  5.459476e-16   \n",
       "V13    -2.315150e-14  1.000000e+00  2.123827e-15  1.085192e-16  5.891446e-16   \n",
       "V14     3.078079e-17  2.123827e-15  1.000000e+00 -3.455196e-17 -1.495868e-15   \n",
       "V15    -1.365129e-15  1.085192e-16 -3.455196e-17  1.000000e+00  1.319540e-15   \n",
       "V16     5.459476e-16  5.891446e-16 -1.495868e-15  1.319540e-15  1.000000e+00   \n",
       "V17     5.142167e-16  7.927356e-17  1.145062e-15  7.125637e-16  2.477326e-15   \n",
       "V18     4.018813e-17  4.224955e-16  1.650145e-15  3.500825e-16 -2.421710e-15   \n",
       "V19     1.789650e-16 -1.987132e-16  2.080473e-16 -1.496251e-15  1.315936e-15   \n",
       "V2     -9.623832e-17  6.392877e-16 -1.776752e-16 -4.454643e-17  1.485380e-17   \n",
       "V20     3.601178e-16  2.295502e-17 -2.490692e-17  4.305737e-16  5.260866e-16   \n",
       "V21     7.259617e-16  9.221999e-17 -3.085480e-16  5.630448e-17 -4.653232e-16   \n",
       "V22     1.647129e-16  6.291073e-17  3.946904e-16 -4.096176e-16 -7.127030e-17   \n",
       "V23     1.524128e-16 -6.997525e-16  3.706752e-16 -4.016251e-16  4.997751e-16   \n",
       "V24     4.446441e-16 -1.792175e-16  2.034185e-16 -4.415423e-16 -2.987122e-16   \n",
       "V25    -5.558262e-16 -5.356873e-16 -8.290074e-16  3.027869e-16 -1.302882e-15   \n",
       "V26    -2.268842e-16 -1.855168e-16 -1.869073e-16  2.830680e-16 -7.453441e-16   \n",
       "V27    -4.643692e-16 -4.875653e-16  1.436496e-16 -1.147519e-15  7.354298e-16   \n",
       "V28     6.287344e-16  1.142662e-15  2.350906e-15 -1.268933e-15  7.858057e-16   \n",
       "V3      6.450182e-16  2.695598e-16  4.501793e-16  8.978792e-16  8.407601e-16   \n",
       "V4     -5.441311e-16  1.288910e-16  2.152272e-16  1.482365e-16 -9.449109e-16   \n",
       "V5      7.392122e-16  5.908619e-16  6.773775e-16 -8.320593e-16  2.217676e-15   \n",
       "V6      2.298904e-16 -1.246669e-16  2.561375e-16 -1.541485e-15  6.413384e-18   \n",
       "V7     -4.162044e-17  7.329372e-20  2.611701e-16 -1.699004e-16  4.614847e-17   \n",
       "V8      1.809978e-16 -2.916599e-16 -8.752351e-16  4.056677e-16 -5.553437e-16   \n",
       "V9     -1.058050e-15  2.259620e-15  3.783840e-15 -1.060914e-15 -1.195999e-15   \n",
       "\n",
       "        ...           V26           V27           V28            V3  \\\n",
       "Amount  ... -3.208037e-03  2.882546e-02  1.025822e-02 -2.108805e-01   \n",
       "Time    ... -4.140710e-02 -5.134591e-03 -9.412688e-03 -4.196182e-01   \n",
       "V1      ... -4.026376e-18  1.584758e-16  2.352899e-15 -1.216277e-15   \n",
       "V10     ... -2.985913e-16 -2.488521e-16  1.154053e-16  1.162615e-15   \n",
       "V11     ... -1.166762e-16 -2.405034e-16 -4.323948e-16  1.581856e-15   \n",
       "V12     ... -2.268842e-16 -4.643692e-16  6.287344e-16  6.450182e-16   \n",
       "V13     ... -1.855168e-16 -4.875653e-16  1.142662e-15  2.695598e-16   \n",
       "V14     ... -1.869073e-16  1.436496e-16  2.350906e-15  4.501793e-16   \n",
       "V15     ...  2.830680e-16 -1.147519e-15 -1.268933e-15  8.978792e-16   \n",
       "V16     ... -7.453441e-16  7.354298e-16  7.858057e-16  8.407601e-16   \n",
       "V17     ...  7.335315e-16  5.454138e-16 -1.432373e-16  7.522020e-16   \n",
       "V18     ...  2.988928e-16  1.813046e-16  8.567721e-16  1.502563e-16   \n",
       "V19     ...  5.841232e-16 -2.052772e-16 -1.373983e-15  3.444131e-16   \n",
       "V2      ...  1.831832e-16 -4.992774e-16 -5.740125e-16  3.435492e-16   \n",
       "V20     ... -2.887484e-16 -1.187770e-15 -3.616798e-16 -9.496488e-16   \n",
       "V21     ... -5.186694e-16 -1.212842e-15  5.712076e-16  5.204581e-17   \n",
       "V22     ...  1.950574e-17 -7.780952e-18 -4.887377e-16 -1.137187e-15   \n",
       "V23     ...  1.125766e-15  3.175345e-16  1.587113e-15 -5.096969e-16   \n",
       "V24     ...  1.070208e-16 -2.093679e-16 -3.079522e-16  1.781582e-18   \n",
       "V25     ...  2.635436e-15 -6.508049e-16 -9.251259e-16 -1.154055e-15   \n",
       "V26     ...  1.000000e+00 -1.761775e-16 -2.621241e-16 -1.654350e-16   \n",
       "V27     ... -1.761775e-16  1.000000e+00 -3.179890e-16  9.137112e-16   \n",
       "V28     ... -2.621241e-16 -3.179890e-16  1.000000e+00  6.272961e-16   \n",
       "V3      ... -1.654350e-16  9.137112e-16  6.272961e-16  1.000000e+00   \n",
       "V4      ... -4.503475e-16  3.581224e-17 -6.989891e-18  4.743135e-16   \n",
       "V5      ...  4.024654e-16  6.687606e-16  8.354008e-17 -7.735784e-17   \n",
       "V6      ... -1.138810e-16 -5.246271e-16  2.301344e-16  1.641693e-15   \n",
       "V7      ... -1.015121e-15 -1.670105e-15 -2.951432e-16  4.729032e-16   \n",
       "V8      ... -1.761063e-16  7.638430e-17 -6.846073e-16 -1.305423e-15   \n",
       "V9      ... -8.189252e-16 -8.564297e-17  1.225007e-15  5.536919e-16   \n",
       "\n",
       "                  V4            V5            V6            V7            V8  \\\n",
       "Amount  9.873167e-02 -3.863563e-01  2.159812e-01  3.973113e-01 -1.030791e-01   \n",
       "Time   -1.052602e-01  1.730721e-01 -6.301647e-02  8.471437e-02 -3.694943e-02   \n",
       "V1     -9.202197e-16  2.608024e-17 -6.610586e-16 -1.021829e-15 -2.649033e-16   \n",
       "V10     2.389054e-16 -4.959797e-16  7.874231e-17 -7.378812e-17 -2.719168e-16   \n",
       "V11     3.565982e-16  7.027842e-16  1.986820e-15  1.600485e-16  2.601287e-16   \n",
       "V12    -5.441311e-16  7.392122e-16  2.298904e-16 -4.162044e-17  1.809978e-16   \n",
       "V13     1.288910e-16  5.908619e-16 -1.246669e-16  7.329372e-20 -2.916599e-16   \n",
       "V14     2.152272e-16  6.773775e-16  2.561375e-16  2.611701e-16 -8.752351e-16   \n",
       "V15     1.482365e-16 -8.320593e-16 -1.541485e-15 -1.699004e-16  4.056677e-16   \n",
       "V16    -9.449109e-16  2.217676e-15  6.413384e-18  4.614847e-17 -5.553437e-16   \n",
       "V17    -2.757788e-16  1.290993e-16  1.912445e-16  2.382090e-16 -2.055833e-16   \n",
       "V18    -4.961076e-16  5.362151e-16  1.344462e-16  5.456113e-17 -3.875804e-16   \n",
       "V19    -4.099446e-16 -1.507465e-16 -2.097067e-16 -1.713013e-16 -3.924430e-16   \n",
       "V2     -1.114300e-15  5.164636e-16  2.817916e-16  2.096357e-16 -4.881111e-17   \n",
       "V20    -1.633881e-16 -3.479625e-16 -2.050914e-16  9.514347e-16  2.182801e-16   \n",
       "V21    -2.069914e-16 -3.987608e-16  4.689012e-17 -2.414939e-16  3.830378e-16   \n",
       "V22    -6.879273e-17  1.239562e-16  1.011746e-17 -8.873190e-16  2.170278e-16   \n",
       "V23     9.108576e-17 -1.279175e-17  9.065948e-17 -4.377793e-16  4.653445e-17   \n",
       "V24     1.551901e-16 -1.142393e-15 -1.072014e-15  1.035570e-17 -9.162113e-17   \n",
       "V25     6.038895e-16  5.189170e-16  4.304189e-16 -3.099625e-16 -4.655986e-16   \n",
       "V26    -4.503475e-16  4.024654e-16 -1.138810e-16 -1.015121e-15 -1.761063e-16   \n",
       "V27     3.581224e-17  6.687606e-16 -5.246271e-16 -1.670105e-15  7.638430e-17   \n",
       "V28    -6.989891e-18  8.354008e-17  2.301344e-16 -2.951432e-16 -6.846073e-16   \n",
       "V3      4.743135e-16 -7.735784e-17  1.641693e-15  4.729032e-16 -1.305423e-15   \n",
       "V4      1.000000e+00 -1.719042e-15 -7.272738e-16 -4.190456e-16  5.852585e-16   \n",
       "V5     -1.719042e-15  1.000000e+00  2.357426e-16  2.824332e-16  7.292837e-16   \n",
       "V6     -7.272738e-16  2.357426e-16  1.000000e+00  1.014884e-16 -9.875764e-17   \n",
       "V7     -4.190456e-16  2.824332e-16  1.014884e-16  1.000000e+00  3.333597e-16   \n",
       "V8      5.852585e-16  7.292837e-16 -9.875764e-17  3.333597e-16  1.000000e+00   \n",
       "V9      6.847746e-16  7.224887e-16  4.309963e-16  1.100050e-15  4.340010e-16   \n",
       "\n",
       "                  V9  \n",
       "Amount -4.424560e-02  \n",
       "Time   -8.660434e-03  \n",
       "V1     -1.626775e-16  \n",
       "V10    -4.998077e-16  \n",
       "V11     1.388229e-16  \n",
       "V12    -1.058050e-15  \n",
       "V13     2.259620e-15  \n",
       "V14     3.783840e-15  \n",
       "V15    -1.060914e-15  \n",
       "V16    -1.195999e-15  \n",
       "V17     1.112022e-15  \n",
       "V18     4.938548e-16  \n",
       "V19    -1.438665e-16  \n",
       "V2      2.248790e-17  \n",
       "V20    -2.301906e-16  \n",
       "V21     1.954937e-16  \n",
       "V22    -6.911335e-16  \n",
       "V23    -5.451060e-16  \n",
       "V24    -1.444737e-16  \n",
       "V25     6.510670e-16  \n",
       "V26    -8.189252e-16  \n",
       "V27    -8.564297e-17  \n",
       "V28     1.225007e-15  \n",
       "V3      5.536919e-16  \n",
       "V4      6.847746e-16  \n",
       "V5      7.224887e-16  \n",
       "V6      4.309963e-16  \n",
       "V7      1.100050e-15  \n",
       "V8      4.340010e-16  \n",
       "V9      1.000000e+00  \n",
       "\n",
       "[30 rows x 30 columns]"
      ]
     },
     "execution_count": 30,
     "metadata": {},
     "output_type": "execute_result"
    }
   ],
   "source": [
    "df2.corr()"
   ]
  },
  {
   "cell_type": "code",
   "execution_count": 32,
   "id": "4125b592",
   "metadata": {},
   "outputs": [
    {
     "data": {
      "text/plain": [
       "<AxesSubplot:>"
      ]
     },
     "execution_count": 32,
     "metadata": {},
     "output_type": "execute_result"
    },
    {
     "data": {
      "image/png": "[encoded data removed]",
      "text/plain": [
       "<Figure size 432x288 with 2 Axes>"
      ]
     },
     "metadata": {
      "needs_background": "light"
     },
     "output_type": "display_data"
    }
   ],
   "source": [
    "sns.heatmap(df2.corr())"
   ]
  },
  {
   "cell_type": "code",
   "execution_count": 33,
   "id": "557a82ff",
   "metadata": {},
   "outputs": [
    {
     "data": {
      "text/plain": [
       "Index(['Amount', 'Class', 'Time', 'V1', 'V10', 'V11', 'V12', 'V13', 'V14',\n",
       "       'V15', 'V16', 'V17', 'V18', 'V19', 'V2', 'V20', 'V21', 'V22', 'V23',\n",
       "       'V24', 'V25', 'V26', 'V27', 'V28', 'V3', 'V4', 'V5', 'V6', 'V7', 'V8',\n",
       "       'V9'],\n",
       "      dtype='object')"
      ]
     },
     "execution_count": 33,
     "metadata": {},
     "output_type": "execute_result"
    }
   ],
   "source": [
    "df2.columns"
   ]
  },
  {
   "cell_type": "code",
   "execution_count": 34,
   "id": "deb86375",
   "metadata": {},
   "outputs": [],
   "source": [
    "df3 = df2.iloc[:,0:5]"
   ]
  },
  {
   "cell_type": "code",
   "execution_count": 37,
   "id": "060f6bfa",
   "metadata": {},
   "outputs": [
    {
     "data": {
      "text/plain": [
       "<AxesSubplot:>"
      ]
     },
     "execution_count": 37,
     "metadata": {},
     "output_type": "execute_result"
    },
    {
     "data": {
      "image/png": "[encoded data removed]",
      "text/plain": [
       "<Figure size 432x288 with 2 Axes>"
      ]
     },
     "metadata": {
      "needs_background": "light"
     },
     "output_type": "display_data"
    }
   ],
   "source": [
    "sns.heatmap(df3.corr(),annot=True)"
   ]
  },
  {
   "cell_type": "code",
   "execution_count": 38,
   "id": "d8669a89",
   "metadata": {},
   "outputs": [],
   "source": [
    "#Categorical Plots"
   ]
  },
  {
   "cell_type": "code",
   "execution_count": null,
   "id": "af13485d",
   "metadata": {},
   "outputs": [],
   "source": [
    "count plot\n",
    "bar plot"
   ]
  },
  {
   "cell_type": "code",
   "execution_count": 40,
   "id": "c25d7b1b",
   "metadata": {},
   "outputs": [
    {
     "name": "stderr",
     "output_type": "stream",
     "text": [
      "C:\\Users\\kanti\\anaconda3\\lib\\site-packages\\seaborn\\_decorators.py:36: FutureWarning: Pass the following variable as a keyword arg: x. From version 0.12, the only valid positional argument will be `data`, and passing other arguments without an explicit keyword will result in an error or misinterpretation.\n",
      "  warnings.warn(\n"
     ]
    },
    {
     "data": {
      "text/plain": [
       "<AxesSubplot:xlabel='sex', ylabel='count'>"
      ]
     },
     "execution_count": 40,
     "metadata": {},
     "output_type": "execute_result"
    },
    {
     "data": {
      "image/png": "[encoded data removed]",
      "text/plain": [
       "<Figure size 432x288 with 1 Axes>"
      ]
     },
     "metadata": {
      "needs_background": "light"
     },
     "output_type": "display_data"
    }
   ],
   "source": [
    "sns.countplot('sex',data=df)"
   ]
  },
  {
   "cell_type": "code",
   "execution_count": 41,
   "id": "1aebedb7",
   "metadata": {},
   "outputs": [
    {
     "data": {
      "text/plain": [
       "<AxesSubplot:xlabel='total_bill', ylabel='sex'>"
      ]
     },
     "execution_count": 41,
     "metadata": {},
     "output_type": "execute_result"
    },
    {
     "data": {
      "image/png": "[encoded data removed]",
      "text/plain": [
       "<Figure size 432x288 with 1 Axes>"
      ]
     },
     "metadata": {
      "needs_background": "light"
     },
     "output_type": "display_data"
    }
   ],
   "source": [
    "sns.barplot(x='total_bill',y='sex',data=df)"
   ]
  },
  {
   "cell_type": "code",
   "execution_count": 43,
   "id": "34b7bef0",
   "metadata": {},
   "outputs": [
    {
     "data": {
      "text/plain": [
       "Male      157\n",
       "Female     87\n",
       "Name: sex, dtype: int64"
      ]
     },
     "execution_count": 43,
     "metadata": {},
     "output_type": "execute_result"
    }
   ],
   "source": [
    "df['sex'].value_counts()"
   ]
  },
  {
   "cell_type": "code",
   "execution_count": null,
   "id": "6f72dc6a",
   "metadata": {},
   "outputs": [],
   "source": []
  },
  {
   "cell_type": "code",
   "execution_count": 49,
   "id": "bf4b1f46",
   "metadata": {},
   "outputs": [
    {
     "ename": "SyntaxError",
     "evalue": "unexpected EOF while parsing (<ipython-input-49-1aed306cdf46>, line 3)",
     "output_type": "error",
     "traceback": [
      "\u001b[1;36m  File \u001b[1;32m\"<ipython-input-49-1aed306cdf46>\"\u001b[1;36m, line \u001b[1;32m3\u001b[0m\n\u001b[1;33m    if [(df11['Manufacture Part Number'] == True) & (df11['Manufacturer Name'] == True)]:\u001b[0m\n\u001b[1;37m                                                                                         ^\u001b[0m\n\u001b[1;31mSyntaxError\u001b[0m\u001b[1;31m:\u001b[0m unexpected EOF while parsing\n"
     ]
    }
   ],
   "source": [
    "def abc(*a):\n",
    "    if [(df11[\"Manufacture Part Number\"].str.startswith(a[0])) & (df11[\"Manufacturer Name\"] == a[1])]:\n",
    "        if [(df11['Manufacture Part Number'] == True) & (df11['Manufacturer Name'] == True)]:\n",
    "            "
   ]
  },
  {
   "cell_type": "code",
   "execution_count": null,
   "id": "67442639",
   "metadata": {},
   "outputs": [],
   "source": [
    "practice -DF -ML \n",
    "DF -EDA -80 task\n",
    "DATABASE --load\n",
    "\n",
    "Stats - 2 days\n",
    "ML - Lineal Reg\n",
    "    Logistic Reg\n",
    "    Decision Tree\n",
    "    Random forest\n",
    "    Confusion matrix\n",
    "    r2"
   ]
  }
 ],
 "metadata": {
  "kernelspec": {
   "display_name": "Python 3",
   "language": "python",
   "name": "python3"
  },
  "language_info": {
   "codemirror_mode": {
    "name": "ipython",
    "version": 3
   },
   "file_extension": ".py",
   "mimetype": "text/x-python",
   "name": "python",
   "nbconvert_exporter": "python",
   "pygments_lexer": "ipython3",
   "version": "3.8.8"
  }
 },
 "nbformat": 4,
 "nbformat_minor": 5
}
