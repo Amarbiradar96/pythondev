{
 "cells": [
  {
   "cell_type": "code",
   "execution_count": 1,
   "id": "775b62b8",
   "metadata": {},
   "outputs": [],
   "source": [
    "a = \"python\""
   ]
  },
  {
   "cell_type": "code",
   "execution_count": 2,
   "id": "4a63d3bb",
   "metadata": {},
   "outputs": [],
   "source": [
    "table = {'p':'j'}"
   ]
  },
  {
   "cell_type": "code",
   "execution_count": 4,
   "id": "734f305d",
   "metadata": {},
   "outputs": [],
   "source": [
    "t1=a.maketrans(table)"
   ]
  },
  {
   "cell_type": "code",
   "execution_count": 5,
   "id": "9d93ded0",
   "metadata": {},
   "outputs": [
    {
     "data": {
      "text/plain": [
       "'jython'"
      ]
     },
     "execution_count": 5,
     "metadata": {},
     "output_type": "execute_result"
    }
   ],
   "source": [
    "a.translate(t1)"
   ]
  },
  {
   "cell_type": "code",
   "execution_count": 6,
   "id": "ecf01c58",
   "metadata": {},
   "outputs": [],
   "source": [
    "a = \"python is an good lang\""
   ]
  },
  {
   "cell_type": "code",
   "execution_count": 9,
   "id": "560e64d3",
   "metadata": {},
   "outputs": [],
   "source": [
    "table = a.maketrans({'p':'j','i':'w','g':'b'})"
   ]
  },
  {
   "cell_type": "code",
   "execution_count": 10,
   "id": "760165b0",
   "metadata": {},
   "outputs": [
    {
     "data": {
      "text/plain": [
       "'jython ws an bood lanb'"
      ]
     },
     "execution_count": 10,
     "metadata": {},
     "output_type": "execute_result"
    }
   ],
   "source": [
    "a.translate(table)"
   ]
  },
  {
   "cell_type": "code",
   "execution_count": 11,
   "id": "d7162b96",
   "metadata": {},
   "outputs": [
    {
     "data": {
      "text/plain": [
       "'              python is an good lang              '"
      ]
     },
     "execution_count": 11,
     "metadata": {},
     "output_type": "execute_result"
    }
   ],
   "source": [
    "a.center(50)"
   ]
  },
  {
   "cell_type": "code",
   "execution_count": 13,
   "id": "8530a114",
   "metadata": {},
   "outputs": [
    {
     "data": {
      "text/plain": [
       "'python is an good lang'"
      ]
     },
     "execution_count": 13,
     "metadata": {},
     "output_type": "execute_result"
    }
   ],
   "source": [
    "a.expandtabs(100)"
   ]
  },
  {
   "cell_type": "code",
   "execution_count": 14,
   "id": "c2a19499",
   "metadata": {},
   "outputs": [],
   "source": [
    "a='.קום '"
   ]
  },
  {
   "cell_type": "code",
   "execution_count": 15,
   "id": "16f50757",
   "metadata": {},
   "outputs": [
    {
     "data": {
      "text/plain": [
       "False"
      ]
     },
     "execution_count": 15,
     "metadata": {},
     "output_type": "execute_result"
    }
   ],
   "source": [
    "a.isascii()"
   ]
  },
  {
   "cell_type": "code",
   "execution_count": 16,
   "id": "addabd83",
   "metadata": {},
   "outputs": [],
   "source": [
    "a='python'"
   ]
  },
  {
   "cell_type": "code",
   "execution_count": 17,
   "id": "632ed5ad",
   "metadata": {},
   "outputs": [
    {
     "data": {
      "text/plain": [
       "True"
      ]
     },
     "execution_count": 17,
     "metadata": {},
     "output_type": "execute_result"
    }
   ],
   "source": [
    "a.isascii()"
   ]
  },
  {
   "cell_type": "code",
   "execution_count": 18,
   "id": "001a2c5b",
   "metadata": {},
   "outputs": [],
   "source": [
    "a='if'"
   ]
  },
  {
   "cell_type": "code",
   "execution_count": 19,
   "id": "018f2174",
   "metadata": {},
   "outputs": [
    {
     "data": {
      "text/plain": [
       "True"
      ]
     },
     "execution_count": 19,
     "metadata": {},
     "output_type": "execute_result"
    }
   ],
   "source": [
    "a.isidentifier()"
   ]
  },
  {
   "cell_type": "code",
   "execution_count": 20,
   "id": "31696981",
   "metadata": {},
   "outputs": [],
   "source": [
    "a='kk'"
   ]
  },
  {
   "cell_type": "code",
   "execution_count": 21,
   "id": "f962b6d8",
   "metadata": {},
   "outputs": [
    {
     "data": {
      "text/plain": [
       "True"
      ]
     },
     "execution_count": 21,
     "metadata": {},
     "output_type": "execute_result"
    }
   ],
   "source": [
    "a.isidentifier()"
   ]
  },
  {
   "cell_type": "code",
   "execution_count": 28,
   "id": "29f977a9",
   "metadata": {},
   "outputs": [],
   "source": [
    "a='python'"
   ]
  },
  {
   "cell_type": "code",
   "execution_count": 29,
   "id": "686d668d",
   "metadata": {},
   "outputs": [
    {
     "data": {
      "text/plain": [
       "True"
      ]
     },
     "execution_count": 29,
     "metadata": {},
     "output_type": "execute_result"
    }
   ],
   "source": [
    "a.isidentifier()"
   ]
  },
  {
   "cell_type": "code",
   "execution_count": 30,
   "id": "1ab45365",
   "metadata": {},
   "outputs": [
    {
     "data": {
      "text/plain": [
       "['python']"
      ]
     },
     "execution_count": 30,
     "metadata": {},
     "output_type": "execute_result"
    }
   ],
   "source": [
    "a.splitlines()"
   ]
  },
  {
   "cell_type": "code",
   "execution_count": 35,
   "id": "0e0f5267",
   "metadata": {},
   "outputs": [],
   "source": [
    "a = 'python java c\\nkjsbfkjsbdf'"
   ]
  },
  {
   "cell_type": "code",
   "execution_count": 36,
   "id": "2f1a96a1",
   "metadata": {},
   "outputs": [
    {
     "data": {
      "text/plain": [
       "['python java c', 'kjsbfkjsbdf']"
      ]
     },
     "execution_count": 36,
     "metadata": {},
     "output_type": "execute_result"
    }
   ],
   "source": [
    "a.splitlines()"
   ]
  },
  {
   "cell_type": "code",
   "execution_count": 37,
   "id": "ec140102",
   "metadata": {},
   "outputs": [],
   "source": [
    "a='10'"
   ]
  },
  {
   "cell_type": "code",
   "execution_count": 38,
   "id": "c53292a8",
   "metadata": {},
   "outputs": [
    {
     "data": {
      "text/plain": [
       "10"
      ]
     },
     "execution_count": 38,
     "metadata": {},
     "output_type": "execute_result"
    }
   ],
   "source": [
    "int(a)"
   ]
  },
  {
   "cell_type": "code",
   "execution_count": 39,
   "id": "90fd6e55",
   "metadata": {},
   "outputs": [],
   "source": [
    "a='10.5'"
   ]
  },
  {
   "cell_type": "code",
   "execution_count": 40,
   "id": "f842d8ec",
   "metadata": {},
   "outputs": [
    {
     "ename": "ValueError",
     "evalue": "invalid literal for int() with base 10: '10.5'",
     "output_type": "error",
     "traceback": [
      "\u001b[1;31m---------------------------------------------------------------------------\u001b[0m",
      "\u001b[1;31mValueError\u001b[0m                                Traceback (most recent call last)",
      "\u001b[1;32m<ipython-input-40-8b2ab3991dae>\u001b[0m in \u001b[0;36m<module>\u001b[1;34m\u001b[0m\n\u001b[1;32m----> 1\u001b[1;33m \u001b[0mint\u001b[0m\u001b[1;33m(\u001b[0m\u001b[0ma\u001b[0m\u001b[1;33m)\u001b[0m\u001b[1;33m\u001b[0m\u001b[1;33m\u001b[0m\u001b[0m\n\u001b[0m",
      "\u001b[1;31mValueError\u001b[0m: invalid literal for int() with base 10: '10.5'"
     ]
    }
   ],
   "source": [
    "int(a)"
   ]
  },
  {
   "cell_type": "code",
   "execution_count": 42,
   "id": "4c05b954",
   "metadata": {},
   "outputs": [
    {
     "data": {
      "text/plain": [
       "10"
      ]
     },
     "execution_count": 42,
     "metadata": {},
     "output_type": "execute_result"
    }
   ],
   "source": [
    "int(float(a))"
   ]
  },
  {
   "cell_type": "code",
   "execution_count": 43,
   "id": "cfd6d288",
   "metadata": {},
   "outputs": [],
   "source": [
    "t = (12,3,)"
   ]
  },
  {
   "cell_type": "code",
   "execution_count": 44,
   "id": "55efb8f7",
   "metadata": {},
   "outputs": [
    {
     "data": {
      "text/plain": [
       "[12, 3]"
      ]
     },
     "execution_count": 44,
     "metadata": {},
     "output_type": "execute_result"
    }
   ],
   "source": [
    "list(t)"
   ]
  },
  {
   "cell_type": "code",
   "execution_count": 45,
   "id": "0d121a40",
   "metadata": {},
   "outputs": [],
   "source": [
    "t = [1,2,3]"
   ]
  },
  {
   "cell_type": "code",
   "execution_count": 46,
   "id": "9766189e",
   "metadata": {},
   "outputs": [
    {
     "data": {
      "text/plain": [
       "(1, 2, 3)"
      ]
     },
     "execution_count": 46,
     "metadata": {},
     "output_type": "execute_result"
    }
   ],
   "source": [
    "tuple(t)"
   ]
  },
  {
   "cell_type": "code",
   "execution_count": 47,
   "id": "06a2bb7b",
   "metadata": {},
   "outputs": [],
   "source": [
    "d = {1,2,3,4,}"
   ]
  },
  {
   "cell_type": "code",
   "execution_count": 48,
   "id": "21d593ee",
   "metadata": {},
   "outputs": [
    {
     "data": {
      "text/plain": [
       "(1, 2, 3, 4)"
      ]
     },
     "execution_count": 48,
     "metadata": {},
     "output_type": "execute_result"
    }
   ],
   "source": [
    "tuple(d)"
   ]
  },
  {
   "cell_type": "code",
   "execution_count": 49,
   "id": "11c2d0ee",
   "metadata": {},
   "outputs": [],
   "source": [
    "d= {'a':1,'b':2}"
   ]
  },
  {
   "cell_type": "code",
   "execution_count": 52,
   "id": "a097c1a8",
   "metadata": {},
   "outputs": [
    {
     "data": {
      "text/plain": [
       "[1, 2]"
      ]
     },
     "execution_count": 52,
     "metadata": {},
     "output_type": "execute_result"
    }
   ],
   "source": [
    "list(d.values())"
   ]
  },
  {
   "cell_type": "code",
   "execution_count": 53,
   "id": "8d050288",
   "metadata": {},
   "outputs": [],
   "source": [
    "a = frozenset([1,2,3,4])"
   ]
  },
  {
   "cell_type": "code",
   "execution_count": 54,
   "id": "088a937a",
   "metadata": {},
   "outputs": [
    {
     "data": {
      "text/plain": [
       "frozenset({1, 2, 3, 4})"
      ]
     },
     "execution_count": 54,
     "metadata": {},
     "output_type": "execute_result"
    }
   ],
   "source": [
    "a"
   ]
  },
  {
   "cell_type": "code",
   "execution_count": 55,
   "id": "e00d3fe0",
   "metadata": {},
   "outputs": [
    {
     "data": {
      "text/plain": [
       "{'a': 1, 'b': 2}"
      ]
     },
     "execution_count": 55,
     "metadata": {},
     "output_type": "execute_result"
    }
   ],
   "source": [
    "d"
   ]
  },
  {
   "cell_type": "code",
   "execution_count": 58,
   "id": "e2562981",
   "metadata": {},
   "outputs": [],
   "source": [
    "a,b = d.values()"
   ]
  },
  {
   "cell_type": "code",
   "execution_count": 59,
   "id": "032b6a30",
   "metadata": {},
   "outputs": [
    {
     "data": {
      "text/plain": [
       "1"
      ]
     },
     "execution_count": 59,
     "metadata": {},
     "output_type": "execute_result"
    }
   ],
   "source": [
    "a"
   ]
  },
  {
   "cell_type": "code",
   "execution_count": 60,
   "id": "0015bcff",
   "metadata": {},
   "outputs": [
    {
     "data": {
      "text/plain": [
       "2"
      ]
     },
     "execution_count": 60,
     "metadata": {},
     "output_type": "execute_result"
    }
   ],
   "source": [
    "b"
   ]
  },
  {
   "cell_type": "code",
   "execution_count": 61,
   "id": "4d87d092",
   "metadata": {},
   "outputs": [],
   "source": [
    "p = [1,2,3,4]"
   ]
  },
  {
   "cell_type": "code",
   "execution_count": 62,
   "id": "0a0301bc",
   "metadata": {},
   "outputs": [],
   "source": [
    "p1=[1,2,3,4]"
   ]
  },
  {
   "cell_type": "code",
   "execution_count": 65,
   "id": "43698416",
   "metadata": {},
   "outputs": [],
   "source": [
    "d = dict(zip(p,p1))"
   ]
  },
  {
   "cell_type": "code",
   "execution_count": 67,
   "id": "d04724da",
   "metadata": {},
   "outputs": [
    {
     "data": {
      "text/plain": [
       "{1: 1, 2: 2, 3: 3, 4: 4}"
      ]
     },
     "execution_count": 67,
     "metadata": {},
     "output_type": "execute_result"
    }
   ],
   "source": [
    "d"
   ]
  },
  {
   "cell_type": "code",
   "execution_count": 70,
   "id": "74615ddf",
   "metadata": {},
   "outputs": [
    {
     "ename": "TypeError",
     "evalue": "'int' object is not iterable",
     "output_type": "error",
     "traceback": [
      "\u001b[1;31m---------------------------------------------------------------------------\u001b[0m",
      "\u001b[1;31mTypeError\u001b[0m                                 Traceback (most recent call last)",
      "\u001b[1;32m<ipython-input-70-e7b9c2b858e4>\u001b[0m in \u001b[0;36m<module>\u001b[1;34m\u001b[0m\n\u001b[1;32m----> 1\u001b[1;33m \u001b[0mlist\u001b[0m\u001b[1;33m(\u001b[0m\u001b[0mzip\u001b[0m\u001b[1;33m(\u001b[0m\u001b[1;33m*\u001b[0m\u001b[0md\u001b[0m\u001b[1;33m)\u001b[0m\u001b[1;33m)\u001b[0m\u001b[1;33m\u001b[0m\u001b[1;33m\u001b[0m\u001b[0m\n\u001b[0m",
      "\u001b[1;31mTypeError\u001b[0m: 'int' object is not iterable"
     ]
    }
   ],
   "source": [
    "list(zip(*d))"
   ]
  },
  {
   "cell_type": "code",
   "execution_count": null,
   "id": "94419872",
   "metadata": {},
   "outputs": [],
   "source": []
  }
 ],
 "metadata": {
  "kernelspec": {
   "display_name": "Python 3",
   "language": "python",
   "name": "python3"
  },
  "language_info": {
   "codemirror_mode": {
    "name": "ipython",
    "version": 3
   },
   "file_extension": ".py",
   "mimetype": "text/x-python",
   "name": "python",
   "nbconvert_exporter": "python",
   "pygments_lexer": "ipython3",
   "version": "3.8.8"
  }
 },
 "nbformat": 4,
 "nbformat_minor": 5
}
