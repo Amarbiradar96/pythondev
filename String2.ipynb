{
 "cells": [
  {
   "cell_type": "code",
   "execution_count": 1,
   "id": "3a6f2174",
   "metadata": {},
   "outputs": [],
   "source": [
    "a = \"python\""
   ]
  },
  {
   "cell_type": "code",
   "execution_count": 4,
   "id": "3d9a516f",
   "metadata": {},
   "outputs": [
    {
     "data": {
      "text/plain": [
       "'                                               python                                               '"
      ]
     },
     "execution_count": 4,
     "metadata": {},
     "output_type": "execute_result"
    }
   ],
   "source": [
    "a.center(100)"
   ]
  },
  {
   "cell_type": "code",
   "execution_count": 3,
   "id": "b414bc68",
   "metadata": {},
   "outputs": [
    {
     "data": {
      "text/plain": [
       "50"
      ]
     },
     "execution_count": 3,
     "metadata": {},
     "output_type": "execute_result"
    }
   ],
   "source": [
    "len('                      python                      ')"
   ]
  },
  {
   "cell_type": "code",
   "execution_count": 9,
   "id": "08bc339c",
   "metadata": {},
   "outputs": [
    {
     "data": {
      "text/plain": [
       "'0000000000000000000000000000000000000000000000000000000000000000000000000000000000000000000000python'"
      ]
     },
     "execution_count": 9,
     "metadata": {},
     "output_type": "execute_result"
    }
   ],
   "source": [
    "a.zfill(100)"
   ]
  },
  {
   "cell_type": "code",
   "execution_count": 7,
   "id": "d57d7ea5",
   "metadata": {},
   "outputs": [
    {
     "data": {
      "text/plain": [
       "'python'"
      ]
     },
     "execution_count": 7,
     "metadata": {},
     "output_type": "execute_result"
    }
   ],
   "source": [
    "a"
   ]
  },
  {
   "cell_type": "code",
   "execution_count": 10,
   "id": "3c57669b",
   "metadata": {},
   "outputs": [],
   "source": [
    "a = \"python java \\n hadoop c++\""
   ]
  },
  {
   "cell_type": "code",
   "execution_count": 11,
   "id": "2064c6d3",
   "metadata": {},
   "outputs": [
    {
     "data": {
      "text/plain": [
       "'python java \\n hadoop c++'"
      ]
     },
     "execution_count": 11,
     "metadata": {},
     "output_type": "execute_result"
    }
   ],
   "source": [
    "a"
   ]
  },
  {
   "cell_type": "code",
   "execution_count": 12,
   "id": "705d4fc3",
   "metadata": {},
   "outputs": [
    {
     "data": {
      "text/plain": [
       "['python java ', ' hadoop c++']"
      ]
     },
     "execution_count": 12,
     "metadata": {},
     "output_type": "execute_result"
    }
   ],
   "source": [
    "a.splitlines()"
   ]
  },
  {
   "cell_type": "code",
   "execution_count": 13,
   "id": "51b9d095",
   "metadata": {},
   "outputs": [],
   "source": [
    "a = \"Python is an prog lang\""
   ]
  },
  {
   "cell_type": "code",
   "execution_count": 14,
   "id": "c2fbd3c2",
   "metadata": {},
   "outputs": [
    {
     "data": {
      "text/plain": [
       "['Python is an prog lang']"
      ]
     },
     "execution_count": 14,
     "metadata": {},
     "output_type": "execute_result"
    }
   ],
   "source": [
    "a.splitlines()"
   ]
  },
  {
   "cell_type": "code",
   "execution_count": null,
   "id": "78f9ae7a",
   "metadata": {},
   "outputs": [],
   "source": [
    "ASCII\n",
    "INDIA   JAPAN  \n",
    "\n",
    "A -- 1010101\n",
    "B --101001\n"
   ]
  },
  {
   "cell_type": "code",
   "execution_count": 15,
   "id": "b8742e76",
   "metadata": {},
   "outputs": [
    {
     "data": {
      "text/plain": [
       "65"
      ]
     },
     "execution_count": 15,
     "metadata": {},
     "output_type": "execute_result"
    }
   ],
   "source": [
    "ord('A')"
   ]
  },
  {
   "cell_type": "code",
   "execution_count": 16,
   "id": "3b24e107",
   "metadata": {},
   "outputs": [
    {
     "data": {
      "text/plain": [
       "97"
      ]
     },
     "execution_count": 16,
     "metadata": {},
     "output_type": "execute_result"
    }
   ],
   "source": [
    "ord('a')"
   ]
  },
  {
   "cell_type": "code",
   "execution_count": 17,
   "id": "acdd77da",
   "metadata": {},
   "outputs": [
    {
     "data": {
      "text/plain": [
       "'B'"
      ]
     },
     "execution_count": 17,
     "metadata": {},
     "output_type": "execute_result"
    }
   ],
   "source": [
    "chr(66)"
   ]
  },
  {
   "cell_type": "code",
   "execution_count": 18,
   "id": "35846632",
   "metadata": {},
   "outputs": [
    {
     "data": {
      "text/plain": [
       "41"
      ]
     },
     "execution_count": 18,
     "metadata": {},
     "output_type": "execute_result"
    }
   ],
   "source": [
    "ord(')')"
   ]
  },
  {
   "cell_type": "code",
   "execution_count": 19,
   "id": "38665235",
   "metadata": {},
   "outputs": [
    {
     "data": {
      "text/plain": [
       "')'"
      ]
     },
     "execution_count": 19,
     "metadata": {},
     "output_type": "execute_result"
    }
   ],
   "source": [
    "chr(41)"
   ]
  },
  {
   "cell_type": "code",
   "execution_count": 20,
   "id": "0409fba5",
   "metadata": {},
   "outputs": [],
   "source": [
    "a = '.קום'"
   ]
  },
  {
   "cell_type": "code",
   "execution_count": 21,
   "id": "4f104dd4",
   "metadata": {},
   "outputs": [
    {
     "data": {
      "text/plain": [
       "False"
      ]
     },
     "execution_count": 21,
     "metadata": {},
     "output_type": "execute_result"
    }
   ],
   "source": [
    "a.isascii()"
   ]
  },
  {
   "cell_type": "code",
   "execution_count": 22,
   "id": "0e2db970",
   "metadata": {},
   "outputs": [],
   "source": [
    "a = 'python'"
   ]
  },
  {
   "cell_type": "code",
   "execution_count": 23,
   "id": "9a721b58",
   "metadata": {},
   "outputs": [
    {
     "data": {
      "text/plain": [
       "True"
      ]
     },
     "execution_count": 23,
     "metadata": {},
     "output_type": "execute_result"
    }
   ],
   "source": [
    "a.isascii()"
   ]
  },
  {
   "cell_type": "code",
   "execution_count": 24,
   "id": "23d1d961",
   "metadata": {},
   "outputs": [],
   "source": [
    "a ='一'"
   ]
  },
  {
   "cell_type": "code",
   "execution_count": 25,
   "id": "8ba30ecb",
   "metadata": {},
   "outputs": [
    {
     "data": {
      "text/plain": [
       "False"
      ]
     },
     "execution_count": 25,
     "metadata": {},
     "output_type": "execute_result"
    }
   ],
   "source": [
    "a.isdigit() # 0-9 sub,super"
   ]
  },
  {
   "cell_type": "code",
   "execution_count": 26,
   "id": "58351244",
   "metadata": {},
   "outputs": [
    {
     "data": {
      "text/plain": [
       "True"
      ]
     },
     "execution_count": 26,
     "metadata": {},
     "output_type": "execute_result"
    }
   ],
   "source": [
    "a.isnumeric() "
   ]
  },
  {
   "cell_type": "code",
   "execution_count": 27,
   "id": "47b01270",
   "metadata": {},
   "outputs": [],
   "source": [
    "a = '2⁰'"
   ]
  },
  {
   "cell_type": "code",
   "execution_count": 28,
   "id": "ed1cf7b7",
   "metadata": {},
   "outputs": [
    {
     "data": {
      "text/plain": [
       "True"
      ]
     },
     "execution_count": 28,
     "metadata": {},
     "output_type": "execute_result"
    }
   ],
   "source": [
    "a.isdigit()"
   ]
  },
  {
   "cell_type": "code",
   "execution_count": 29,
   "id": "26e9391d",
   "metadata": {},
   "outputs": [
    {
     "data": {
      "text/plain": [
       "True"
      ]
     },
     "execution_count": 29,
     "metadata": {},
     "output_type": "execute_result"
    }
   ],
   "source": [
    "a.isnumeric()"
   ]
  },
  {
   "cell_type": "code",
   "execution_count": 34,
   "id": "6626e9e3",
   "metadata": {},
   "outputs": [],
   "source": [
    "a = '100.67'"
   ]
  },
  {
   "cell_type": "code",
   "execution_count": 35,
   "id": "feb58239",
   "metadata": {},
   "outputs": [
    {
     "data": {
      "text/plain": [
       "False"
      ]
     },
     "execution_count": 35,
     "metadata": {},
     "output_type": "execute_result"
    }
   ],
   "source": [
    "a.isdecimal()"
   ]
  },
  {
   "cell_type": "code",
   "execution_count": 36,
   "id": "29fb27c2",
   "metadata": {},
   "outputs": [
    {
     "data": {
      "text/plain": [
       "False"
      ]
     },
     "execution_count": 36,
     "metadata": {},
     "output_type": "execute_result"
    }
   ],
   "source": [
    "a.isdigit()"
   ]
  },
  {
   "cell_type": "code",
   "execution_count": 37,
   "id": "10504885",
   "metadata": {},
   "outputs": [
    {
     "data": {
      "text/plain": [
       "False"
      ]
     },
     "execution_count": 37,
     "metadata": {},
     "output_type": "execute_result"
    }
   ],
   "source": [
    "a.isnumeric()"
   ]
  },
  {
   "cell_type": "code",
   "execution_count": 53,
   "id": "15bd140d",
   "metadata": {},
   "outputs": [],
   "source": [
    "a = '98'"
   ]
  },
  {
   "cell_type": "code",
   "execution_count": 54,
   "id": "16f450a8",
   "metadata": {},
   "outputs": [
    {
     "data": {
      "text/plain": [
       "True"
      ]
     },
     "execution_count": 54,
     "metadata": {},
     "output_type": "execute_result"
    }
   ],
   "source": [
    "a.isdecimal()"
   ]
  },
  {
   "cell_type": "code",
   "execution_count": 55,
   "id": "1c5b6218",
   "metadata": {},
   "outputs": [
    {
     "data": {
      "text/plain": [
       "True"
      ]
     },
     "execution_count": 55,
     "metadata": {},
     "output_type": "execute_result"
    }
   ],
   "source": [
    "a.isnumeric()"
   ]
  },
  {
   "cell_type": "code",
   "execution_count": 56,
   "id": "5043d737",
   "metadata": {},
   "outputs": [
    {
     "data": {
      "text/plain": [
       "True"
      ]
     },
     "execution_count": 56,
     "metadata": {},
     "output_type": "execute_result"
    }
   ],
   "source": [
    "a.isdecimal()"
   ]
  },
  {
   "cell_type": "code",
   "execution_count": null,
   "id": "5dd6424d",
   "metadata": {},
   "outputs": [],
   "source": [
    "decimal 0-9 # floar not allowed\n",
    "digit  0-9 sub,super # floar not allowed\n",
    "numeric 0-9,sub,super,other lang unicode # floar not allowed"
   ]
  },
  {
   "cell_type": "code",
   "execution_count": 64,
   "id": "68965be3",
   "metadata": {},
   "outputs": [],
   "source": [
    "a = 'Python '"
   ]
  },
  {
   "cell_type": "code",
   "execution_count": 69,
   "id": "96470fa0",
   "metadata": {},
   "outputs": [],
   "source": [
    "d = {'P':'J','t':'k','n':'M'}"
   ]
  },
  {
   "cell_type": "code",
   "execution_count": 70,
   "id": "80878786",
   "metadata": {},
   "outputs": [],
   "source": [
    "table = a.maketrans(d)"
   ]
  },
  {
   "cell_type": "code",
   "execution_count": 71,
   "id": "ce7885cf",
   "metadata": {},
   "outputs": [
    {
     "data": {
      "text/plain": [
       "{80: 'J', 116: 'k', 110: 'M'}"
      ]
     },
     "execution_count": 71,
     "metadata": {},
     "output_type": "execute_result"
    }
   ],
   "source": [
    "table"
   ]
  },
  {
   "cell_type": "code",
   "execution_count": 72,
   "id": "e4eefc07",
   "metadata": {},
   "outputs": [
    {
     "data": {
      "text/plain": [
       "'P'"
      ]
     },
     "execution_count": 72,
     "metadata": {},
     "output_type": "execute_result"
    }
   ],
   "source": [
    "chr(80)"
   ]
  },
  {
   "cell_type": "code",
   "execution_count": 73,
   "id": "e44a97ab",
   "metadata": {},
   "outputs": [
    {
     "data": {
      "text/plain": [
       "'JykhoM '"
      ]
     },
     "execution_count": 73,
     "metadata": {},
     "output_type": "execute_result"
    }
   ],
   "source": [
    "a.translate(table)"
   ]
  },
  {
   "cell_type": "code",
   "execution_count": null,
   "id": "7ef6efb6",
   "metadata": {},
   "outputs": [],
   "source": []
  },
  {
   "cell_type": "code",
   "execution_count": 63,
   "id": "8a5dc87d",
   "metadata": {},
   "outputs": [
    {
     "data": {
      "text/plain": [
       "'98'"
      ]
     },
     "execution_count": 63,
     "metadata": {},
     "output_type": "execute_result"
    }
   ],
   "source": [
    "a"
   ]
  },
  {
   "cell_type": "code",
   "execution_count": 74,
   "id": "ce5fbe34",
   "metadata": {},
   "outputs": [],
   "source": [
    "a = \"Hadoop\""
   ]
  },
  {
   "cell_type": "code",
   "execution_count": 75,
   "id": "8fdba7ad",
   "metadata": {},
   "outputs": [],
   "source": [
    "table = {72:'V'}"
   ]
  },
  {
   "cell_type": "code",
   "execution_count": 76,
   "id": "e5220505",
   "metadata": {},
   "outputs": [
    {
     "data": {
      "text/plain": [
       "'Vadoop'"
      ]
     },
     "execution_count": 76,
     "metadata": {},
     "output_type": "execute_result"
    }
   ],
   "source": [
    "a.translate(table)"
   ]
  },
  {
   "cell_type": "code",
   "execution_count": 77,
   "id": "36cfb94e",
   "metadata": {},
   "outputs": [],
   "source": [
    "a= 'abcd'"
   ]
  },
  {
   "cell_type": "code",
   "execution_count": 79,
   "id": "d93ff152",
   "metadata": {},
   "outputs": [],
   "source": [
    "b ='1234'"
   ]
  },
  {
   "cell_type": "code",
   "execution_count": 80,
   "id": "58dfe0e8",
   "metadata": {},
   "outputs": [],
   "source": [
    "p = 'abcd efgh'"
   ]
  },
  {
   "cell_type": "code",
   "execution_count": 92,
   "id": "a1bfe53f",
   "metadata": {},
   "outputs": [
    {
     "ename": "NameError",
     "evalue": "name 'maketrans' is not defined",
     "output_type": "error",
     "traceback": [
      "\u001b[1;31m---------------------------------------------------------------------------\u001b[0m",
      "\u001b[1;31mNameError\u001b[0m                                 Traceback (most recent call last)",
      "\u001b[1;32m<ipython-input-92-ed56a3206520>\u001b[0m in \u001b[0;36m<module>\u001b[1;34m\u001b[0m\n\u001b[1;32m----> 1\u001b[1;33m \u001b[0mt\u001b[0m \u001b[1;33m=\u001b[0m \u001b[0mmaketrans\u001b[0m\u001b[1;33m(\u001b[0m\u001b[0ma\u001b[0m\u001b[1;33m,\u001b[0m\u001b[0mb\u001b[0m\u001b[1;33m)\u001b[0m\u001b[1;33m\u001b[0m\u001b[1;33m\u001b[0m\u001b[0m\n\u001b[0m",
      "\u001b[1;31mNameError\u001b[0m: name 'maketrans' is not defined"
     ]
    }
   ],
   "source": [
    "t = maketrans(a,b)"
   ]
  },
  {
   "cell_type": "code",
   "execution_count": 84,
   "id": "3f4af412",
   "metadata": {},
   "outputs": [
    {
     "data": {
      "text/plain": [
       "{97: 49, 98: 50, 99: 51, 100: 52}"
      ]
     },
     "execution_count": 84,
     "metadata": {},
     "output_type": "execute_result"
    }
   ],
   "source": []
  },
  {
   "cell_type": "code",
   "execution_count": 86,
   "id": "7523dd45",
   "metadata": {},
   "outputs": [
    {
     "data": {
      "text/plain": [
       "'1234 efgh'"
      ]
     },
     "execution_count": 86,
     "metadata": {},
     "output_type": "execute_result"
    }
   ],
   "source": [
    "p.translate(t)"
   ]
  },
  {
   "cell_type": "code",
   "execution_count": 87,
   "id": "c231182e",
   "metadata": {},
   "outputs": [],
   "source": [
    "z = \"\""
   ]
  },
  {
   "cell_type": "code",
   "execution_count": 88,
   "id": "80ec7e06",
   "metadata": {},
   "outputs": [],
   "source": [
    "a =10 "
   ]
  },
  {
   "cell_type": "code",
   "execution_count": 89,
   "id": "04e0591f",
   "metadata": {},
   "outputs": [
    {
     "name": "stdout",
     "output_type": "stream",
     "text": [
      "<class 'int'>\n"
     ]
    }
   ],
   "source": [
    "print(type(a))"
   ]
  },
  {
   "cell_type": "code",
   "execution_count": 90,
   "id": "d9981b16",
   "metadata": {},
   "outputs": [],
   "source": [
    "a = 'python'"
   ]
  },
  {
   "cell_type": "code",
   "execution_count": 91,
   "id": "76d42ff5",
   "metadata": {},
   "outputs": [
    {
     "name": "stdout",
     "output_type": "stream",
     "text": [
      "<class 'str'>\n"
     ]
    }
   ],
   "source": [
    "print(type(a))"
   ]
  },
  {
   "cell_type": "code",
   "execution_count": 93,
   "id": "306cf9d3",
   "metadata": {},
   "outputs": [],
   "source": [
    "class student:\n",
    "    def __init__(self,name,age):\n",
    "        self.name=name\n",
    "        self.age=age\n",
    "    def show(self):\n",
    "        print(self.name)\n",
    "        print(self.age)\n",
    "    def show1(self):\n",
    "        print('Hi Welcome')"
   ]
  },
  {
   "cell_type": "code",
   "execution_count": 94,
   "id": "685afbd7",
   "metadata": {},
   "outputs": [],
   "source": [
    "s = student('Arun',25)"
   ]
  },
  {
   "cell_type": "code",
   "execution_count": 95,
   "id": "f2ff9f20",
   "metadata": {},
   "outputs": [
    {
     "name": "stdout",
     "output_type": "stream",
     "text": [
      "<class '__main__.student'>\n"
     ]
    }
   ],
   "source": [
    "print(type(s))"
   ]
  },
  {
   "cell_type": "code",
   "execution_count": 96,
   "id": "40fb7851",
   "metadata": {},
   "outputs": [
    {
     "name": "stdout",
     "output_type": "stream",
     "text": [
      "Arun\n",
      "25\n"
     ]
    }
   ],
   "source": [
    "s.show()"
   ]
  },
  {
   "cell_type": "code",
   "execution_count": 97,
   "id": "383cbf86",
   "metadata": {},
   "outputs": [],
   "source": [
    "a = 'python'"
   ]
  },
  {
   "cell_type": "code",
   "execution_count": 99,
   "id": "de8f810d",
   "metadata": {},
   "outputs": [
    {
     "data": {
      "text/plain": [
       "'python'"
      ]
     },
     "execution_count": 99,
     "metadata": {},
     "output_type": "execute_result"
    }
   ],
   "source": [
    "a"
   ]
  },
  {
   "cell_type": "code",
   "execution_count": 100,
   "id": "a809ab65",
   "metadata": {},
   "outputs": [],
   "source": [
    "a = 10"
   ]
  },
  {
   "cell_type": "code",
   "execution_count": 101,
   "id": "8128e98b",
   "metadata": {},
   "outputs": [],
   "source": [
    "a = '10'"
   ]
  },
  {
   "cell_type": "code",
   "execution_count": 102,
   "id": "990af99b",
   "metadata": {},
   "outputs": [
    {
     "data": {
      "text/plain": [
       "'10'"
      ]
     },
     "execution_count": 102,
     "metadata": {},
     "output_type": "execute_result"
    }
   ],
   "source": [
    "a"
   ]
  },
  {
   "cell_type": "code",
   "execution_count": 103,
   "id": "b0c999ab",
   "metadata": {},
   "outputs": [
    {
     "data": {
      "text/plain": [
       "False"
      ]
     },
     "execution_count": 103,
     "metadata": {},
     "output_type": "execute_result"
    }
   ],
   "source": [
    "a.isidentifier()"
   ]
  },
  {
   "cell_type": "code",
   "execution_count": 104,
   "id": "3e2daa24",
   "metadata": {},
   "outputs": [],
   "source": [
    "a='python'"
   ]
  },
  {
   "cell_type": "code",
   "execution_count": 105,
   "id": "42afc5b4",
   "metadata": {},
   "outputs": [
    {
     "data": {
      "text/plain": [
       "True"
      ]
     },
     "execution_count": 105,
     "metadata": {},
     "output_type": "execute_result"
    }
   ],
   "source": [
    "a.isidentifier()"
   ]
  },
  {
   "cell_type": "code",
   "execution_count": 106,
   "id": "358ebee2",
   "metadata": {},
   "outputs": [],
   "source": [
    "python  = 12121"
   ]
  },
  {
   "cell_type": "code",
   "execution_count": 107,
   "id": "5b9df35a",
   "metadata": {},
   "outputs": [],
   "source": [
    "a = \"_\""
   ]
  },
  {
   "cell_type": "code",
   "execution_count": 108,
   "id": "1099d51f",
   "metadata": {},
   "outputs": [
    {
     "data": {
      "text/plain": [
       "True"
      ]
     },
     "execution_count": 108,
     "metadata": {},
     "output_type": "execute_result"
    }
   ],
   "source": [
    "a.isidentifier()"
   ]
  },
  {
   "cell_type": "code",
   "execution_count": 109,
   "id": "a17ff914",
   "metadata": {},
   "outputs": [],
   "source": [
    "a = '$'"
   ]
  },
  {
   "cell_type": "code",
   "execution_count": 110,
   "id": "ea133393",
   "metadata": {},
   "outputs": [
    {
     "data": {
      "text/plain": [
       "False"
      ]
     },
     "execution_count": 110,
     "metadata": {},
     "output_type": "execute_result"
    }
   ],
   "source": [
    "a.isidentifier()"
   ]
  },
  {
   "cell_type": "code",
   "execution_count": 112,
   "id": "6c6c2764",
   "metadata": {},
   "outputs": [],
   "source": [
    "a = '10'"
   ]
  },
  {
   "cell_type": "code",
   "execution_count": 113,
   "id": "4b7eea63",
   "metadata": {},
   "outputs": [
    {
     "data": {
      "text/plain": [
       "False"
      ]
     },
     "execution_count": 113,
     "metadata": {},
     "output_type": "execute_result"
    }
   ],
   "source": [
    "a.isidentifier()"
   ]
  },
  {
   "cell_type": "code",
   "execution_count": 114,
   "id": "35b79eef",
   "metadata": {},
   "outputs": [],
   "source": [
    "#Typecast"
   ]
  },
  {
   "cell_type": "code",
   "execution_count": 115,
   "id": "aea49f1b",
   "metadata": {},
   "outputs": [],
   "source": [
    "a10='p'"
   ]
  },
  {
   "cell_type": "code",
   "execution_count": 116,
   "id": "b9ffcef8",
   "metadata": {},
   "outputs": [
    {
     "data": {
      "text/plain": [
       "'p'"
      ]
     },
     "execution_count": 116,
     "metadata": {},
     "output_type": "execute_result"
    }
   ],
   "source": [
    "a10"
   ]
  },
  {
   "cell_type": "code",
   "execution_count": 117,
   "id": "bb24aa5e",
   "metadata": {},
   "outputs": [
    {
     "ename": "SyntaxError",
     "evalue": "invalid syntax (<ipython-input-117-cb87f5a99f06>, line 1)",
     "output_type": "error",
     "traceback": [
      "\u001b[1;36m  File \u001b[1;32m\"<ipython-input-117-cb87f5a99f06>\"\u001b[1;36m, line \u001b[1;32m1\u001b[0m\n\u001b[1;33m    10a='p'\u001b[0m\n\u001b[1;37m      ^\u001b[0m\n\u001b[1;31mSyntaxError\u001b[0m\u001b[1;31m:\u001b[0m invalid syntax\n"
     ]
    }
   ],
   "source": [
    "10a='p'"
   ]
  },
  {
   "cell_type": "code",
   "execution_count": 118,
   "id": "011724f0",
   "metadata": {},
   "outputs": [],
   "source": [
    "a = '10'"
   ]
  },
  {
   "cell_type": "code",
   "execution_count": 120,
   "id": "472761f2",
   "metadata": {},
   "outputs": [],
   "source": [
    "a_new = int(a)"
   ]
  },
  {
   "cell_type": "code",
   "execution_count": 121,
   "id": "b731f6c9",
   "metadata": {},
   "outputs": [
    {
     "data": {
      "text/plain": [
       "10"
      ]
     },
     "execution_count": 121,
     "metadata": {},
     "output_type": "execute_result"
    }
   ],
   "source": [
    "a_new"
   ]
  },
  {
   "cell_type": "code",
   "execution_count": 122,
   "id": "a9054aee",
   "metadata": {},
   "outputs": [],
   "source": [
    "a = '10.45'"
   ]
  },
  {
   "cell_type": "code",
   "execution_count": 123,
   "id": "65b05fd5",
   "metadata": {},
   "outputs": [],
   "source": [
    "#str -- float --int"
   ]
  },
  {
   "cell_type": "code",
   "execution_count": 124,
   "id": "0150684e",
   "metadata": {},
   "outputs": [
    {
     "data": {
      "text/plain": [
       "'10.45'"
      ]
     },
     "execution_count": 124,
     "metadata": {},
     "output_type": "execute_result"
    }
   ],
   "source": [
    "a"
   ]
  },
  {
   "cell_type": "code",
   "execution_count": 125,
   "id": "7d215756",
   "metadata": {},
   "outputs": [
    {
     "ename": "ValueError",
     "evalue": "invalid literal for int() with base 10: '10.45'",
     "output_type": "error",
     "traceback": [
      "\u001b[1;31m---------------------------------------------------------------------------\u001b[0m",
      "\u001b[1;31mValueError\u001b[0m                                Traceback (most recent call last)",
      "\u001b[1;32m<ipython-input-125-8b2ab3991dae>\u001b[0m in \u001b[0;36m<module>\u001b[1;34m\u001b[0m\n\u001b[1;32m----> 1\u001b[1;33m \u001b[0mint\u001b[0m\u001b[1;33m(\u001b[0m\u001b[0ma\u001b[0m\u001b[1;33m)\u001b[0m\u001b[1;33m\u001b[0m\u001b[1;33m\u001b[0m\u001b[0m\n\u001b[0m",
      "\u001b[1;31mValueError\u001b[0m: invalid literal for int() with base 10: '10.45'"
     ]
    }
   ],
   "source": [
    "int(a)"
   ]
  },
  {
   "cell_type": "code",
   "execution_count": 127,
   "id": "78ebf748",
   "metadata": {},
   "outputs": [
    {
     "data": {
      "text/plain": [
       "10"
      ]
     },
     "execution_count": 127,
     "metadata": {},
     "output_type": "execute_result"
    }
   ],
   "source": [
    "int(float(a))"
   ]
  },
  {
   "cell_type": "code",
   "execution_count": 128,
   "id": "2dceabdf",
   "metadata": {},
   "outputs": [],
   "source": [
    "a = 'python10'"
   ]
  },
  {
   "cell_type": "code",
   "execution_count": 129,
   "id": "83626b31",
   "metadata": {},
   "outputs": [
    {
     "ename": "ValueError",
     "evalue": "invalid literal for int() with base 10: 'python10'",
     "output_type": "error",
     "traceback": [
      "\u001b[1;31m---------------------------------------------------------------------------\u001b[0m",
      "\u001b[1;31mValueError\u001b[0m                                Traceback (most recent call last)",
      "\u001b[1;32m<ipython-input-129-8b2ab3991dae>\u001b[0m in \u001b[0;36m<module>\u001b[1;34m\u001b[0m\n\u001b[1;32m----> 1\u001b[1;33m \u001b[0mint\u001b[0m\u001b[1;33m(\u001b[0m\u001b[0ma\u001b[0m\u001b[1;33m)\u001b[0m\u001b[1;33m\u001b[0m\u001b[1;33m\u001b[0m\u001b[0m\n\u001b[0m",
      "\u001b[1;31mValueError\u001b[0m: invalid literal for int() with base 10: 'python10'"
     ]
    }
   ],
   "source": [
    "int(a)"
   ]
  },
  {
   "cell_type": "code",
   "execution_count": null,
   "id": "e6347126",
   "metadata": {},
   "outputs": [],
   "source": [
    "str - int /float\n",
    "list -tuple/tuple--list"
   ]
  },
  {
   "cell_type": "code",
   "execution_count": 130,
   "id": "41b5a5d0",
   "metadata": {},
   "outputs": [],
   "source": [
    "py_list = [1,2,3,4]"
   ]
  },
  {
   "cell_type": "code",
   "execution_count": 131,
   "id": "a0ef8953",
   "metadata": {},
   "outputs": [
    {
     "data": {
      "text/plain": [
       "(1, 2, 3, 4)"
      ]
     },
     "execution_count": 131,
     "metadata": {},
     "output_type": "execute_result"
    }
   ],
   "source": [
    "tuple(py_list)"
   ]
  },
  {
   "cell_type": "code",
   "execution_count": 132,
   "id": "6f3a6324",
   "metadata": {},
   "outputs": [],
   "source": [
    "p =(1, 2, 3, 4)"
   ]
  },
  {
   "cell_type": "code",
   "execution_count": 133,
   "id": "7ab326ed",
   "metadata": {},
   "outputs": [
    {
     "data": {
      "text/plain": [
       "[1, 2, 3, 4]"
      ]
     },
     "execution_count": 133,
     "metadata": {},
     "output_type": "execute_result"
    }
   ],
   "source": [
    "list(p)"
   ]
  },
  {
   "cell_type": "code",
   "execution_count": 134,
   "id": "ad9140ab",
   "metadata": {},
   "outputs": [],
   "source": [
    "d = {1,2,3,4,5}"
   ]
  },
  {
   "cell_type": "code",
   "execution_count": 135,
   "id": "12f71daf",
   "metadata": {},
   "outputs": [
    {
     "data": {
      "text/plain": [
       "[1, 2, 3, 4, 5]"
      ]
     },
     "execution_count": 135,
     "metadata": {},
     "output_type": "execute_result"
    }
   ],
   "source": [
    "list(d)"
   ]
  },
  {
   "cell_type": "code",
   "execution_count": 136,
   "id": "a3ea973c",
   "metadata": {},
   "outputs": [
    {
     "data": {
      "text/plain": [
       "(1, 2, 3, 4, 5)"
      ]
     },
     "execution_count": 136,
     "metadata": {},
     "output_type": "execute_result"
    }
   ],
   "source": [
    "tuple(d)"
   ]
  },
  {
   "cell_type": "code",
   "execution_count": 139,
   "id": "6960366b",
   "metadata": {},
   "outputs": [],
   "source": [
    "d = {(1,2,3):1,'b':2}"
   ]
  },
  {
   "cell_type": "code",
   "execution_count": 140,
   "id": "caf69209",
   "metadata": {},
   "outputs": [
    {
     "data": {
      "text/plain": [
       "[(1, 2, 3), 'b']"
      ]
     },
     "execution_count": 140,
     "metadata": {},
     "output_type": "execute_result"
    }
   ],
   "source": [
    "list(d)"
   ]
  },
  {
   "cell_type": "code",
   "execution_count": 141,
   "id": "08ecdb98",
   "metadata": {},
   "outputs": [],
   "source": [
    "p = [1,2,3,4]"
   ]
  },
  {
   "cell_type": "code",
   "execution_count": 146,
   "id": "74ae01e1",
   "metadata": {},
   "outputs": [],
   "source": [
    "k = ['a','b','c','d']"
   ]
  },
  {
   "cell_type": "code",
   "execution_count": 149,
   "id": "0aced717",
   "metadata": {},
   "outputs": [],
   "source": [
    " dp = list(zip(p,k))"
   ]
  },
  {
   "cell_type": "code",
   "execution_count": 152,
   "id": "66ef4ece",
   "metadata": {},
   "outputs": [
    {
     "data": {
      "text/plain": [
       "[(1, 2, 3, 4), ('a', 'b', 'c', 'd')]"
      ]
     },
     "execution_count": 152,
     "metadata": {},
     "output_type": "execute_result"
    }
   ],
   "source": [
    " list(zip(*dp))"
   ]
  },
  {
   "cell_type": "code",
   "execution_count": 153,
   "id": "012a245e",
   "metadata": {},
   "outputs": [],
   "source": [
    "p = \"python 100,200,300,java\""
   ]
  },
  {
   "cell_type": "code",
   "execution_count": null,
   "id": "2dbe79a9",
   "metadata": {},
   "outputs": [],
   "source": [
    "set       add,pop,discard,remove\n",
    "mutable \n",
    "\n",
    "frozenset\n",
    "immutable"
   ]
  },
  {
   "cell_type": "code",
   "execution_count": 154,
   "id": "fe47590b",
   "metadata": {},
   "outputs": [],
   "source": [
    "p = frozenset([1,2,3,4,5,6,6,6,6,6])"
   ]
  },
  {
   "cell_type": "code",
   "execution_count": 155,
   "id": "e285b398",
   "metadata": {},
   "outputs": [
    {
     "data": {
      "text/plain": [
       "frozenset({1, 2, 3, 4, 5, 6})"
      ]
     },
     "execution_count": 155,
     "metadata": {},
     "output_type": "execute_result"
    }
   ],
   "source": [
    "p"
   ]
  },
  {
   "cell_type": "code",
   "execution_count": null,
   "id": "5935a00b",
   "metadata": {},
   "outputs": [],
   "source": []
  }
 ],
 "metadata": {
  "kernelspec": {
   "display_name": "Python 3",
   "language": "python",
   "name": "python3"
  },
  "language_info": {
   "codemirror_mode": {
    "name": "ipython",
    "version": 3
   },
   "file_extension": ".py",
   "mimetype": "text/x-python",
   "name": "python",
   "nbconvert_exporter": "python",
   "pygments_lexer": "ipython3",
   "version": "3.8.8"
  }
 },
 "nbformat": 4,
 "nbformat_minor": 5
}
